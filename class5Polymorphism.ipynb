{
 "cells": [
  {
   "cell_type": "code",
   "execution_count": 2,
   "metadata": {},
   "outputs": [
    {
     "name": "stdout",
     "output_type": "stream",
     "text": [
      "Student name Nahid and age is 34\n",
      "The name of the subject is Data Science and Student Name is Nahid\n"
     ]
    }
   ],
   "source": [
    "##class one \n",
    "class Student:\n",
    "    def __init__(self,name,age):\n",
    "        self.name=name\n",
    "        self.age=age\n",
    "\n",
    "    def info(self):\n",
    "        print(f\"The age is {self.age}\")\n",
    "\n",
    "    def result(self,Sub):\n",
    "        print(f\"The name of the subject is {Sub} and Student Name is {self.name}\" )\n",
    "\n",
    "class ID(Student):\n",
    "    def __init__(self,name,age):\n",
    "        Student.__init__(self,name,age)\n",
    "\n",
    "    def info(self):\n",
    "        print(f\"Student name {self.name} and age is {self.age}\")\n",
    "\n",
    "id1= ID(\"Nahid\",34)\n",
    "id1.info()\n",
    "id2= ID(\"Nahid\",34)\n",
    "id2.result(\"Data Science\")\n"
   ]
  },
  {
   "cell_type": "code",
   "execution_count": 1,
   "metadata": {},
   "outputs": [
    {
     "name": "stdout",
     "output_type": "stream",
     "text": [
      "The are of the Rectangule  is 36\n",
      "The are of the Circle  is 50.192\n"
     ]
    }
   ],
   "source": [
    "##class one \n",
    "class Shape:\n",
    "    def area(self):\n",
    "        print(\"The area is Undefined\")\n",
    "\n",
    "## Drived Class 01\n",
    "class Rectangule(Shape):\n",
    "    def __init__(self,hight,width):\n",
    "        self.hight=hight\n",
    "        self.width=width\n",
    "    def area(self):\n",
    "        return self.width * self.hight\n",
    "## Drive Class 02\n",
    "class Circle(Shape):\n",
    "    def __init__(self,radious):\n",
    "        self.radious=radious\n",
    "    def area(self):\n",
    "        return 3.137 * self.radious * self.radious\n",
    "    \n",
    "## Function \n",
    "def print_area(Shape):\n",
    "    if isinstance(Shape,Rectangule):\n",
    "        print(f\"The are of the Rectangule  is {Shape.area()}\")\n",
    "    else:\n",
    "        print(f\"The are of the Circle  is {Shape.area()}\")\n",
    "    \n",
    "\n",
    "Rectangule1 = Rectangule(12,3)\n",
    "Circle1= Circle(4)\n",
    "\n",
    "print_area(Rectangule1)\n",
    "print_area(Circle1)\n",
    "\n",
    "# From this code we learned how to rewrite a class from a another class"
   ]
  },
  {
   "cell_type": "code",
   "execution_count": null,
   "metadata": {},
   "outputs": [],
   "source": []
  },
  {
   "cell_type": "code",
   "execution_count": null,
   "metadata": {},
   "outputs": [],
   "source": []
  }
 ],
 "metadata": {
  "kernelspec": {
   "display_name": "Python 3",
   "language": "python",
   "name": "python3"
  },
  "language_info": {
   "codemirror_mode": {
    "name": "ipython",
    "version": 3
   },
   "file_extension": ".py",
   "mimetype": "text/x-python",
   "name": "python",
   "nbconvert_exporter": "python",
   "pygments_lexer": "ipython3",
   "version": "3.10.0"
  }
 },
 "nbformat": 4,
 "nbformat_minor": 2
}
