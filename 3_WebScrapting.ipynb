{
 "cells": [
  {
   "cell_type": "code",
   "execution_count": 1,
   "metadata": {},
   "outputs": [],
   "source": [
    "from bs4 import BeautifulSoup\n",
    "import requests\n",
    "import re\n",
    "import lxml\n",
    "import pandas as pd"
   ]
  },
  {
   "cell_type": "code",
   "execution_count": 2,
   "metadata": {},
   "outputs": [
    {
     "data": {
      "text/plain": [
       "<Response [200]>"
      ]
     },
     "execution_count": 2,
     "metadata": {},
     "output_type": "execute_result"
    }
   ],
   "source": [
    "url = \"https://webscraper.io/test-sites/e-commerce/allinone/phones/touch\"\n",
    "page =requests.get(url)\n",
    "page"
   ]
  },
  {
   "cell_type": "code",
   "execution_count": 3,
   "metadata": {},
   "outputs": [],
   "source": [
    "soup = BeautifulSoup(page.text, \"lxml\")"
   ]
  },
  {
   "cell_type": "code",
   "execution_count": 6,
   "metadata": {},
   "outputs": [],
   "source": [
    "product_name = soup.find_all('a', class_ = \"title\")\n",
    "product_price = soup.find_all(\"h4\", class_ = re.compile(\"price\"))\n",
    "product_review = soup.find_all('p', class_ = re.compile(\"review\"))\n",
    "product_info = soup.find_all('p', class_ = re.compile('description'))"
   ]
  },
  {
   "cell_type": "code",
   "execution_count": 19,
   "metadata": {},
   "outputs": [],
   "source": [
    "product_name_list =  []\n",
    "product_price_list=  []\n",
    "product_review_list= []\n",
    "product_info_list = []\n",
    "\n",
    "for i in range(0,len(product_name)):\n",
    "    product_name_list.append(product_name[i].text)\n",
    "    product_price_list.append(product_price[i].text)\n",
    "    product_review_list.append(product_review[i].text.split(\" \")[0])\n",
    "    product_info_list.append(product_info[i].text)"
   ]
  },
  {
   "cell_type": "code",
   "execution_count": 27,
   "metadata": {},
   "outputs": [
    {
     "name": "stdout",
     "output_type": "stream",
     "text": [
      "       Phone Name            Descriptions    Price Review\n",
      "0       Nokia 123           7 day battery   $24.99     11\n",
      "1      LG Optimus             3.2\" screen   $57.99     11\n",
      "2  Samsung Galaxy      5 mpx. Android 5.0   $93.99      3\n",
      "3         Nokia X  Andoid, Jolla dualboot  $109.99      4\n",
      "4     Sony Xperia         GPS, waterproof  $118.99      6\n",
      "5     Ubuntu Edge          Sapphire glass  $499.99      2\n",
      "6          Iphone                   White  $899.99     10\n",
      "7          Iphone                  Silver  $899.99      8\n",
      "8          Iphone                   Black  $899.99      1\n"
     ]
    }
   ],
   "source": [
    "df = pd.DataFrame({\"Phone Name\":product_name_list , \"Descriptions\" : product_info_list, \"Price\" : product_price_list, \"Review\": product_review_list })\n",
    "print(df)"
   ]
  }
 ],
 "metadata": {
  "kernelspec": {
   "display_name": "Python 3",
   "language": "python",
   "name": "python3"
  },
  "language_info": {
   "codemirror_mode": {
    "name": "ipython",
    "version": 3
   },
   "file_extension": ".py",
   "mimetype": "text/x-python",
   "name": "python",
   "nbconvert_exporter": "python",
   "pygments_lexer": "ipython3",
   "version": "3.12.4"
  }
 },
 "nbformat": 4,
 "nbformat_minor": 2
}
