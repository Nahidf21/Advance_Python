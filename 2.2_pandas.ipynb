{
 "cells": [
  {
   "cell_type": "code",
   "execution_count": 15,
   "metadata": {},
   "outputs": [],
   "source": [
    "import pandas as pd\n",
    "import numpy as np "
   ]
  },
  {
   "cell_type": "code",
   "execution_count": 16,
   "metadata": {},
   "outputs": [],
   "source": [
    "data= pd.read_excel(r\"C:\\Users\\nahid\\Desktop\\Python_World\\Data\\text phonix.xlsx\")"
   ]
  },
  {
   "cell_type": "code",
   "execution_count": 17,
   "metadata": {},
   "outputs": [
    {
     "name": "stdout",
     "output_type": "stream",
     "text": [
      "<class 'pandas.core.frame.DataFrame'>\n",
      "RangeIndex: 38 entries, 0 to 37\n",
      "Data columns (total 10 columns):\n",
      " #   Column            Non-Null Count  Dtype  \n",
      "---  ------            --------------  -----  \n",
      " 0   NDVIMAX           38 non-null     float64\n",
      " 1   NDVIMEAN          38 non-null     float64\n",
      " 2   NDVIMEDIAN        38 non-null     float64\n",
      " 3   WATER             38 non-null     int64  \n",
      " 4   IMPERVIOUS        38 non-null     int64  \n",
      " 5   SOIL_BARREN       38 non-null     float64\n",
      " 6   TREES_FOREST      38 non-null     float64\n",
      " 7   SHRUBS            38 non-null     float64\n",
      " 8   GRASS_HERBACEOUS  38 non-null     int64  \n",
      " 9   AGRICULTURE       38 non-null     int64  \n",
      "dtypes: float64(6), int64(4)\n",
      "memory usage: 3.1 KB\n"
     ]
    }
   ],
   "source": [
    "data.info()"
   ]
  },
  {
   "cell_type": "code",
   "execution_count": 18,
   "metadata": {},
   "outputs": [
    {
     "data": {
      "text/html": [
       "<div>\n",
       "<style scoped>\n",
       "    .dataframe tbody tr th:only-of-type {\n",
       "        vertical-align: middle;\n",
       "    }\n",
       "\n",
       "    .dataframe tbody tr th {\n",
       "        vertical-align: top;\n",
       "    }\n",
       "\n",
       "    .dataframe thead th {\n",
       "        text-align: right;\n",
       "    }\n",
       "</style>\n",
       "<table border=\"1\" class=\"dataframe\">\n",
       "  <thead>\n",
       "    <tr style=\"text-align: right;\">\n",
       "      <th></th>\n",
       "      <th>NDVIMAX</th>\n",
       "      <th>NDVIMEAN</th>\n",
       "      <th>NDVIMEDIAN</th>\n",
       "      <th>WATER</th>\n",
       "      <th>IMPERVIOUS</th>\n",
       "      <th>SOIL_BARREN</th>\n",
       "      <th>TREES_FOREST</th>\n",
       "      <th>SHRUBS</th>\n",
       "      <th>GRASS_HERBACEOUS</th>\n",
       "      <th>AGRICULTURE</th>\n",
       "    </tr>\n",
       "  </thead>\n",
       "  <tbody>\n",
       "    <tr>\n",
       "      <th>count</th>\n",
       "      <td>38.000000</td>\n",
       "      <td>38.000000</td>\n",
       "      <td>38.000000</td>\n",
       "      <td>38.0</td>\n",
       "      <td>38.0</td>\n",
       "      <td>38.000000</td>\n",
       "      <td>38.000000</td>\n",
       "      <td>38.000000</td>\n",
       "      <td>38.0</td>\n",
       "      <td>38.0</td>\n",
       "    </tr>\n",
       "    <tr>\n",
       "      <th>mean</th>\n",
       "      <td>0.363397</td>\n",
       "      <td>0.258134</td>\n",
       "      <td>0.248642</td>\n",
       "      <td>0.0</td>\n",
       "      <td>0.0</td>\n",
       "      <td>0.768276</td>\n",
       "      <td>0.035995</td>\n",
       "      <td>0.195729</td>\n",
       "      <td>0.0</td>\n",
       "      <td>0.0</td>\n",
       "    </tr>\n",
       "    <tr>\n",
       "      <th>std</th>\n",
       "      <td>0.039072</td>\n",
       "      <td>0.037376</td>\n",
       "      <td>0.044691</td>\n",
       "      <td>0.0</td>\n",
       "      <td>0.0</td>\n",
       "      <td>0.182113</td>\n",
       "      <td>0.103036</td>\n",
       "      <td>0.164160</td>\n",
       "      <td>0.0</td>\n",
       "      <td>0.0</td>\n",
       "    </tr>\n",
       "    <tr>\n",
       "      <th>min</th>\n",
       "      <td>0.298800</td>\n",
       "      <td>0.198700</td>\n",
       "      <td>0.180800</td>\n",
       "      <td>0.0</td>\n",
       "      <td>0.0</td>\n",
       "      <td>0.300000</td>\n",
       "      <td>0.000000</td>\n",
       "      <td>0.000000</td>\n",
       "      <td>0.0</td>\n",
       "      <td>0.0</td>\n",
       "    </tr>\n",
       "    <tr>\n",
       "      <th>25%</th>\n",
       "      <td>0.328925</td>\n",
       "      <td>0.220050</td>\n",
       "      <td>0.203700</td>\n",
       "      <td>0.0</td>\n",
       "      <td>0.0</td>\n",
       "      <td>0.621125</td>\n",
       "      <td>0.000000</td>\n",
       "      <td>0.043875</td>\n",
       "      <td>0.0</td>\n",
       "      <td>0.0</td>\n",
       "    </tr>\n",
       "    <tr>\n",
       "      <th>50%</th>\n",
       "      <td>0.356650</td>\n",
       "      <td>0.271250</td>\n",
       "      <td>0.257050</td>\n",
       "      <td>0.0</td>\n",
       "      <td>0.0</td>\n",
       "      <td>0.796100</td>\n",
       "      <td>0.000000</td>\n",
       "      <td>0.160000</td>\n",
       "      <td>0.0</td>\n",
       "      <td>0.0</td>\n",
       "    </tr>\n",
       "    <tr>\n",
       "      <th>75%</th>\n",
       "      <td>0.393050</td>\n",
       "      <td>0.288200</td>\n",
       "      <td>0.282600</td>\n",
       "      <td>0.0</td>\n",
       "      <td>0.0</td>\n",
       "      <td>0.949725</td>\n",
       "      <td>0.003850</td>\n",
       "      <td>0.301375</td>\n",
       "      <td>0.0</td>\n",
       "      <td>0.0</td>\n",
       "    </tr>\n",
       "    <tr>\n",
       "      <th>max</th>\n",
       "      <td>0.442100</td>\n",
       "      <td>0.317700</td>\n",
       "      <td>0.323700</td>\n",
       "      <td>0.0</td>\n",
       "      <td>0.0</td>\n",
       "      <td>1.000000</td>\n",
       "      <td>0.555600</td>\n",
       "      <td>0.700000</td>\n",
       "      <td>0.0</td>\n",
       "      <td>0.0</td>\n",
       "    </tr>\n",
       "  </tbody>\n",
       "</table>\n",
       "</div>"
      ],
      "text/plain": [
       "         NDVIMAX   NDVIMEAN  NDVIMEDIAN  WATER  IMPERVIOUS  SOIL_BARREN  \\\n",
       "count  38.000000  38.000000   38.000000   38.0        38.0    38.000000   \n",
       "mean    0.363397   0.258134    0.248642    0.0         0.0     0.768276   \n",
       "std     0.039072   0.037376    0.044691    0.0         0.0     0.182113   \n",
       "min     0.298800   0.198700    0.180800    0.0         0.0     0.300000   \n",
       "25%     0.328925   0.220050    0.203700    0.0         0.0     0.621125   \n",
       "50%     0.356650   0.271250    0.257050    0.0         0.0     0.796100   \n",
       "75%     0.393050   0.288200    0.282600    0.0         0.0     0.949725   \n",
       "max     0.442100   0.317700    0.323700    0.0         0.0     1.000000   \n",
       "\n",
       "       TREES_FOREST     SHRUBS  GRASS_HERBACEOUS  AGRICULTURE  \n",
       "count     38.000000  38.000000              38.0         38.0  \n",
       "mean       0.035995   0.195729               0.0          0.0  \n",
       "std        0.103036   0.164160               0.0          0.0  \n",
       "min        0.000000   0.000000               0.0          0.0  \n",
       "25%        0.000000   0.043875               0.0          0.0  \n",
       "50%        0.000000   0.160000               0.0          0.0  \n",
       "75%        0.003850   0.301375               0.0          0.0  \n",
       "max        0.555600   0.700000               0.0          0.0  "
      ]
     },
     "execution_count": 18,
     "metadata": {},
     "output_type": "execute_result"
    }
   ],
   "source": [
    "data.describe()"
   ]
  },
  {
   "cell_type": "code",
   "execution_count": 19,
   "metadata": {},
   "outputs": [
    {
     "data": {
      "text/plain": [
       "NDVIMAX             0\n",
       "NDVIMEAN            0\n",
       "NDVIMEDIAN          0\n",
       "WATER               0\n",
       "IMPERVIOUS          0\n",
       "SOIL_BARREN         0\n",
       "TREES_FOREST        0\n",
       "SHRUBS              0\n",
       "GRASS_HERBACEOUS    0\n",
       "AGRICULTURE         0\n",
       "dtype: int64"
      ]
     },
     "execution_count": 19,
     "metadata": {},
     "output_type": "execute_result"
    }
   ],
   "source": [
    "data.isnull().sum()"
   ]
  },
  {
   "cell_type": "code",
   "execution_count": 20,
   "metadata": {},
   "outputs": [
    {
     "data": {
      "text/html": [
       "<div>\n",
       "<style scoped>\n",
       "    .dataframe tbody tr th:only-of-type {\n",
       "        vertical-align: middle;\n",
       "    }\n",
       "\n",
       "    .dataframe tbody tr th {\n",
       "        vertical-align: top;\n",
       "    }\n",
       "\n",
       "    .dataframe thead th {\n",
       "        text-align: right;\n",
       "    }\n",
       "</style>\n",
       "<table border=\"1\" class=\"dataframe\">\n",
       "  <thead>\n",
       "    <tr style=\"text-align: right;\">\n",
       "      <th></th>\n",
       "      <th>NDVIMAX</th>\n",
       "      <th>NDVIMEAN</th>\n",
       "      <th>NDVIMEDIAN</th>\n",
       "      <th>WATER</th>\n",
       "      <th>IMPERVIOUS</th>\n",
       "      <th>SOIL_BARREN</th>\n",
       "      <th>TREES_FOREST</th>\n",
       "      <th>SHRUBS</th>\n",
       "      <th>GRASS_HERBACEOUS</th>\n",
       "      <th>AGRICULTURE</th>\n",
       "    </tr>\n",
       "  </thead>\n",
       "  <tbody>\n",
       "    <tr>\n",
       "      <th>0</th>\n",
       "      <td>0.3770</td>\n",
       "      <td>0.2922</td>\n",
       "      <td>0.2820</td>\n",
       "      <td>0</td>\n",
       "      <td>0</td>\n",
       "      <td>0.6978</td>\n",
       "      <td>0.0000</td>\n",
       "      <td>0.3022</td>\n",
       "      <td>0</td>\n",
       "      <td>0</td>\n",
       "    </tr>\n",
       "    <tr>\n",
       "      <th>1</th>\n",
       "      <td>0.3554</td>\n",
       "      <td>0.2827</td>\n",
       "      <td>0.2896</td>\n",
       "      <td>0</td>\n",
       "      <td>0</td>\n",
       "      <td>0.6044</td>\n",
       "      <td>0.0000</td>\n",
       "      <td>0.3956</td>\n",
       "      <td>0</td>\n",
       "      <td>0</td>\n",
       "    </tr>\n",
       "    <tr>\n",
       "      <th>2</th>\n",
       "      <td>0.3493</td>\n",
       "      <td>0.2796</td>\n",
       "      <td>0.2915</td>\n",
       "      <td>0</td>\n",
       "      <td>0</td>\n",
       "      <td>0.5889</td>\n",
       "      <td>0.0044</td>\n",
       "      <td>0.4067</td>\n",
       "      <td>0</td>\n",
       "      <td>0</td>\n",
       "    </tr>\n",
       "    <tr>\n",
       "      <th>3</th>\n",
       "      <td>0.3332</td>\n",
       "      <td>0.2791</td>\n",
       "      <td>0.2796</td>\n",
       "      <td>0</td>\n",
       "      <td>0</td>\n",
       "      <td>0.6311</td>\n",
       "      <td>0.0189</td>\n",
       "      <td>0.3500</td>\n",
       "      <td>0</td>\n",
       "      <td>0</td>\n",
       "    </tr>\n",
       "    <tr>\n",
       "      <th>4</th>\n",
       "      <td>0.4134</td>\n",
       "      <td>0.3055</td>\n",
       "      <td>0.3058</td>\n",
       "      <td>0</td>\n",
       "      <td>0</td>\n",
       "      <td>0.6178</td>\n",
       "      <td>0.0344</td>\n",
       "      <td>0.3478</td>\n",
       "      <td>0</td>\n",
       "      <td>0</td>\n",
       "    </tr>\n",
       "  </tbody>\n",
       "</table>\n",
       "</div>"
      ],
      "text/plain": [
       "   NDVIMAX  NDVIMEAN  NDVIMEDIAN  WATER  IMPERVIOUS  SOIL_BARREN  \\\n",
       "0   0.3770    0.2922      0.2820      0           0       0.6978   \n",
       "1   0.3554    0.2827      0.2896      0           0       0.6044   \n",
       "2   0.3493    0.2796      0.2915      0           0       0.5889   \n",
       "3   0.3332    0.2791      0.2796      0           0       0.6311   \n",
       "4   0.4134    0.3055      0.3058      0           0       0.6178   \n",
       "\n",
       "   TREES_FOREST  SHRUBS  GRASS_HERBACEOUS  AGRICULTURE  \n",
       "0        0.0000  0.3022                 0            0  \n",
       "1        0.0000  0.3956                 0            0  \n",
       "2        0.0044  0.4067                 0            0  \n",
       "3        0.0189  0.3500                 0            0  \n",
       "4        0.0344  0.3478                 0            0  "
      ]
     },
     "execution_count": 20,
     "metadata": {},
     "output_type": "execute_result"
    }
   ],
   "source": [
    "data.head()"
   ]
  },
  {
   "cell_type": "code",
   "execution_count": null,
   "metadata": {},
   "outputs": [],
   "source": []
  },
  {
   "cell_type": "code",
   "execution_count": null,
   "metadata": {},
   "outputs": [],
   "source": []
  },
  {
   "cell_type": "code",
   "execution_count": 62,
   "metadata": {},
   "outputs": [],
   "source": [
    "import random \n",
    "\n",
    "def magic():\n",
    "    for i in range(6):\n",
    "        return random.randint(1,20)"
   ]
  },
  {
   "cell_type": "code",
   "execution_count": 57,
   "metadata": {},
   "outputs": [
    {
     "data": {
      "text/plain": [
       "19"
      ]
     },
     "execution_count": 57,
     "metadata": {},
     "output_type": "execute_result"
    }
   ],
   "source": [
    "magic()"
   ]
  },
  {
   "cell_type": "code",
   "execution_count": 63,
   "metadata": {},
   "outputs": [],
   "source": [
    "import random \n",
    "\n",
    "def magic():\n",
    "    for i in range(6):\n",
    "        yield random.randint(1,20)"
   ]
  },
  {
   "cell_type": "code",
   "execution_count": 69,
   "metadata": {},
   "outputs": [
    {
     "name": "stdout",
     "output_type": "stream",
     "text": [
      "<generator object magic at 0x0000023F969F1080>\n"
     ]
    }
   ],
   "source": [
    "magic()"
   ]
  },
  {
   "cell_type": "code",
   "execution_count": 70,
   "metadata": {},
   "outputs": [
    {
     "name": "stdout",
     "output_type": "stream",
     "text": [
      "4\n",
      "14\n",
      "20\n",
      "6\n",
      "1\n",
      "14\n"
     ]
    }
   ],
   "source": [
    "for i in magic():\n",
    "    print(i)"
   ]
  },
  {
   "cell_type": "code",
   "execution_count": 71,
   "metadata": {},
   "outputs": [
    {
     "name": "stdout",
     "output_type": "stream",
     "text": [
      "N\n",
      "a\n",
      "h\n",
      "i\n",
      "d\n"
     ]
    }
   ],
   "source": [
    "for i in \"Nahid\":\n",
    "    print(i)"
   ]
  },
  {
   "cell_type": "code",
   "execution_count": 90,
   "metadata": {},
   "outputs": [],
   "source": [
    "supperhero1 = (1,2,3,4)\n",
    "supperhero2 = (1,2,3,4)\n",
    "\n",
    "def getSquare(num1,num2):\n",
    "    return num1*num2"
   ]
  },
  {
   "cell_type": "code",
   "execution_count": 99,
   "metadata": {},
   "outputs": [],
   "source": [
    "result = map(getSquare,supperhero1,supperhero2)\n",
    "resulttwo= set(result)\n"
   ]
  },
  {
   "cell_type": "code",
   "execution_count": 100,
   "metadata": {},
   "outputs": [
    {
     "name": "stdout",
     "output_type": "stream",
     "text": [
      "(1, 2, 3, 4)\n",
      "(1, 2, 3, 4)\n",
      "{16, 1, 4, 9}\n"
     ]
    }
   ],
   "source": [
    "print(supperhero1)\n",
    "print(supperhero2)\n",
    "print(resulttwo)\n"
   ]
  },
  {
   "cell_type": "code",
   "execution_count": 108,
   "metadata": {},
   "outputs": [],
   "source": [
    "d1= {1,2,3,4}\n",
    "d2={1,2,0,5}\n",
    "d3= [None,None,None,None]\n",
    "d4= [None,1,2,0]\n",
    "d5=[ ]\n"
   ]
  },
  {
   "cell_type": "code",
   "execution_count": 123,
   "metadata": {},
   "outputs": [],
   "source": [
    "import string \n",
    "import collections\n"
   ]
  },
  {
   "cell_type": "code",
   "execution_count": 138,
   "metadata": {},
   "outputs": [
    {
     "name": "stdout",
     "output_type": "stream",
     "text": [
      "a,b,c,d,e,f,g,h,i,j,k,l,m,n,o,p,q,r,s,t,u,v,w,x,y,z, Next \n",
      "\n",
      "a,b,c,d,e,f,g,h,i,j,k,l,m,n,o,p,q,r,s,t,u,v,w,x,y,z,"
     ]
    }
   ],
   "source": [
    "#print(string.ascii_lowercase)\n",
    "\n",
    "def main():\n",
    "    myd= collections.deque(string.ascii_lowercase)\n",
    "    #print(\"Number of elements are :\", str(len(myd)))\n",
    "    for i in myd:\n",
    "        print(i, end=\",\")\n",
    "\n",
    "\n",
    "if __name__ == \"__main__\":\n",
    "    main()\n",
    "    print(\" ok \")\n",
    "    main()"
   ]
  },
  {
   "cell_type": "code",
   "execution_count": 140,
   "metadata": {},
   "outputs": [
    {
     "data": {
      "text/plain": [
       "[1, 2, 3, 45, 67, 8, 3.5, 1]"
      ]
     },
     "execution_count": 140,
     "metadata": {},
     "output_type": "execute_result"
    }
   ],
   "source": [
    "MylistOne = [1,2,3,45,67,8,3.5]\n",
    "MylistOne.append(1)\n",
    "MylistOne"
   ]
  },
  {
   "cell_type": "code",
   "execution_count": 145,
   "metadata": {},
   "outputs": [
    {
     "name": "stdout",
     "output_type": "stream",
     "text": [
      "1\n",
      "5\n",
      "2\n",
      "7\n",
      "2\n"
     ]
    }
   ],
   "source": [
    "def my_data():\n",
    "    for x in range(20):\n",
    "        yield x\n",
    "\n",
    "for i in range(5):\n",
    "    y =random.randint(0,10)\n",
    "    print(y)\n",
    "\n"
   ]
  },
  {
   "cell_type": "code",
   "execution_count": 148,
   "metadata": {},
   "outputs": [
    {
     "name": "stdout",
     "output_type": "stream",
     "text": [
      "0\n",
      "1\n",
      "2\n",
      "3\n",
      "4\n",
      "5\n",
      "6\n",
      "7\n",
      "8\n",
      "9\n",
      "10\n",
      "11\n",
      "12\n",
      "13\n",
      "14\n",
      "15\n",
      "16\n",
      "17\n",
      "18\n",
      "19\n"
     ]
    }
   ],
   "source": [
    "for i in my_data():\n",
    "    print(i)"
   ]
  },
  {
   "cell_type": "code",
   "execution_count": 174,
   "metadata": {},
   "outputs": [],
   "source": [
    "\n",
    "Student_name = [\"Nahid\",\"Ferdous\",\"Marzia\",\"Khan\",\"Abid\",\"Khan\"]\n",
    "def info(name):\n",
    "    return name\n",
    "\n",
    "object1 = map(info,Student_name)"
   ]
  },
  {
   "cell_type": "code",
   "execution_count": 175,
   "metadata": {},
   "outputs": [
    {
     "name": "stdout",
     "output_type": "stream",
     "text": [
      "Nahid\n",
      "Ferdous\n",
      "Marzia\n",
      "Khan\n",
      "Abid\n",
      "Khan\n",
      "['Nahid', 'Ferdous', 'Marzia', 'Khan', 'Abid', 'Khan']\n"
     ]
    }
   ],
   "source": [
    "\n",
    "\n",
    "new_name=[]\n",
    "for i in object1:\n",
    "    new_name.append(i)\n",
    "    print(i)\n",
    "\n",
    "print(new_name)"
   ]
  },
  {
   "cell_type": "code",
   "execution_count": 172,
   "metadata": {},
   "outputs": [
    {
     "name": "stdout",
     "output_type": "stream",
     "text": [
      "Nahid\n",
      "Ferdous\n",
      "Marzia\n",
      "Khan\n",
      "Abid\n",
      "Khan\n",
      "['Nahid', 'Ferdous', 'Marzia', 'Khan', 'Abid', 'Khan']\n"
     ]
    }
   ],
   "source": [
    "Student_name = [\"Nahid\", \"Ferdous\", \"Marzia\", \"Khan\", \"Abid\", \"Khan\"]\n",
    "\n",
    "# Define a function that simply returns the input name\n",
    "def info(name):\n",
    "    return name\n",
    "\n",
    "# Use map to apply the info function to each element of Student_name\n",
    "object1 = map(info, Student_name)\n",
    "\n",
    "# Create an empty list to store the results\n",
    "new_name = []\n",
    "\n",
    "# Iterate over the map object and append each result to new_name\n",
    "for i in object1:\n",
    "    new_name.append(i)\n",
    "    print(i)\n",
    "\n",
    "# The new_name list will now contain all the names from Student_name\n",
    "print(new_name)\n"
   ]
  },
  {
   "cell_type": "code",
   "execution_count": 185,
   "metadata": {},
   "outputs": [],
   "source": [
    "my_list = [1,3,2,3,4,12,13,2,12,4,12,11,13,4]\n",
    "new_list=[]\n",
    "def select(num):\n",
    "    for i,d in enumerate(my_list):\n",
    "        if d >= num:\n",
    "            new_list.append(d)\n",
    "            my_list.pop(i)"
   ]
  },
  {
   "cell_type": "code",
   "execution_count": 184,
   "metadata": {},
   "outputs": [
    {
     "name": "stdout",
     "output_type": "stream",
     "text": [
      "[1, 2, 4, 13, 2, 4, 11, 4]\n",
      "[3, 3, 12, 12, 12, 13]\n"
     ]
    }
   ],
   "source": [
    "print(my_list)\n",
    "print(new_list)"
   ]
  },
  {
   "cell_type": "code",
   "execution_count": null,
   "metadata": {},
   "outputs": [],
   "source": []
  }
 ],
 "metadata": {
  "kernelspec": {
   "display_name": "Python 3",
   "language": "python",
   "name": "python3"
  },
  "language_info": {
   "codemirror_mode": {
    "name": "ipython",
    "version": 3
   },
   "file_extension": ".py",
   "mimetype": "text/x-python",
   "name": "python",
   "nbconvert_exporter": "python",
   "pygments_lexer": "ipython3",
   "version": "3.12.4"
  }
 },
 "nbformat": 4,
 "nbformat_minor": 2
}
