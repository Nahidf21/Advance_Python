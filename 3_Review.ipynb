{
 "cells": [
  {
   "cell_type": "code",
   "execution_count": 3,
   "metadata": {},
   "outputs": [
    {
     "name": "stdout",
     "output_type": "stream",
     "text": [
      "['1_review_abstractmethod.ipynb', '2_Function_Review.ipynb', '3_Review.ipynb', 'tast.text']\n"
     ]
    }
   ],
   "source": [
    "## Listing all the files \n",
    "import os\n",
    "items = os.listdir(\".\")\n",
    "print(items)"
   ]
  },
  {
   "cell_type": "code",
   "execution_count": 6,
   "metadata": {},
   "outputs": [],
   "source": [
    "# OS.remove is methode delate the file.\n",
    "os.remove('tast.text')"
   ]
  },
  {
   "cell_type": "code",
   "execution_count": 39,
   "metadata": {},
   "outputs": [
    {
     "name": "stdout",
     "output_type": "stream",
     "text": [
      "nahid\n",
      "Ferdous\n",
      "Marzia\n",
      "Khan\n"
     ]
    }
   ],
   "source": [
    "#paking and unpaking function \n",
    "list2= []\n",
    "def tast(*args, **kwargs):\n",
    "    list1= args\n",
    "    dic1= kwargs\n",
    "    for i in list1[0]:\n",
    "        list2.append(i)\n",
    "\n",
    "    return list2\n",
    "\n",
    "for item in tast([\"nahid\",\"Ferdous\",\"Marzia\", \"Khan\"], name= \"Nahid\", Age = 32, Class = \"DS\", Year = 2024):\n",
    "    print(item)"
   ]
  },
  {
   "cell_type": "code",
   "execution_count": 40,
   "metadata": {},
   "outputs": [
    {
     "name": "stdout",
     "output_type": "stream",
     "text": [
      "nahid\n",
      "Ferdous\n",
      "Marzia\n",
      "Khan\n",
      "nahid\n",
      "Ferdous\n",
      "Marzia\n",
      "Khan\n"
     ]
    }
   ],
   "source": [
    "for item in tast([\"nahid\",\"Ferdous\",\"Marzia\", \"Khan\"], name= \"Nahid\", Age = 32, Class = \"DS\", Year = 2024):\n",
    "    print(item)"
   ]
  },
  {
   "cell_type": "code",
   "execution_count": 37,
   "metadata": {},
   "outputs": [
    {
     "name": "stdout",
     "output_type": "stream",
     "text": [
      "nahid\n",
      "Ferdous\n",
      "Marzia\n",
      "Khan\n"
     ]
    }
   ],
   "source": [
    "list2 = []\n",
    "\n",
    "def tast(*args, **kwargs):\n",
    "    list1 = args\n",
    "    dic1 = kwargs\n",
    "    for i in list1[0]:\n",
    "        list2.append(i)\n",
    "   \n",
    "    return list2  # Return the updated list2\n",
    "\n",
    "# Iterating over the result of tast (which is now a list)\n",
    "for item in tast([\"nahid\", \"Ferdous\", \"Marzia\", \"Khan\"], name=\"Nahid\", Age=32, Class=\"DS\", Year=2024):\n",
    "    print(item)\n"
   ]
  },
  {
   "cell_type": "code",
   "execution_count": 53,
   "metadata": {},
   "outputs": [
    {
     "data": {
      "text/plain": [
       "'Nahid = Ferdous'"
      ]
     },
     "execution_count": 53,
     "metadata": {},
     "output_type": "execute_result"
    }
   ],
   "source": [
    "# String \n",
    "name = (\"Nahid Ferdous\").split(\" \")\n",
    "\" = \".join(name)"
   ]
  },
  {
   "cell_type": "code",
   "execution_count": 57,
   "metadata": {},
   "outputs": [
    {
     "data": {
      "text/plain": [
       "['1_review_abstractmethod.ipynb',\n",
       " '2_Function_Review.ipynb',\n",
       " '3_Review.ipynb',\n",
       " 'text1.text']"
      ]
     },
     "execution_count": 57,
     "metadata": {},
     "output_type": "execute_result"
    }
   ],
   "source": [
    "import os\n",
    "os.listdir()"
   ]
  },
  {
   "cell_type": "code",
   "execution_count": 58,
   "metadata": {},
   "outputs": [],
   "source": [
    "with open (\"text1.text\",\"r\") as text_file:\n",
    "    content = text_file.read()"
   ]
  },
  {
   "cell_type": "code",
   "execution_count": 61,
   "metadata": {},
   "outputs": [
    {
     "name": "stdout",
     "output_type": "stream",
     "text": [
      "5\n"
     ]
    }
   ],
   "source": [
    "# string.islower() methode identyfy the lower cherecter from the string \n",
    "count =0\n",
    "for c in content:\n",
    "    if c.islower():\n",
    "        count+=1\n",
    "print(count)"
   ]
  },
  {
   "cell_type": "code",
   "execution_count": 64,
   "metadata": {},
   "outputs": [
    {
     "data": {
      "text/plain": [
       "[6, 5, 4, 2, 1]"
      ]
     },
     "execution_count": 64,
     "metadata": {},
     "output_type": "execute_result"
    }
   ],
   "source": [
    "# reverts a list \n",
    "l=[1,2,4,5,6]\n",
    "l.reverse()\n",
    "l"
   ]
  },
  {
   "cell_type": "code",
   "execution_count": 90,
   "metadata": {},
   "outputs": [
    {
     "data": {
      "text/plain": [
       "'dihaN'"
      ]
     },
     "execution_count": 90,
     "metadata": {},
     "output_type": "execute_result"
    }
   ],
   "source": [
    "#revirts a string \n",
    "s= \"Nahid\"\n",
    "\"\".join(reversed(s))\n",
    "\n",
    "\n",
    "\n"
   ]
  },
  {
   "cell_type": "code",
   "execution_count": 95,
   "metadata": {},
   "outputs": [
    {
     "data": {
      "text/plain": [
       "'cba'"
      ]
     },
     "execution_count": 95,
     "metadata": {},
     "output_type": "execute_result"
    }
   ],
   "source": [
    "# reversed a string or a list \n",
    "s= \"Nahid\"\n",
    "s[::-2]\n",
    "\n",
    "i= [\"a\",\"b\",\"c\"]\n",
    "i[::-1]\n",
    "\"\".join(i[::-1])"
   ]
  },
  {
   "cell_type": "code",
   "execution_count": 98,
   "metadata": {},
   "outputs": [
    {
     "data": {
      "text/plain": [
       "[['a', 'b'], ['d', 'f']]"
      ]
     },
     "execution_count": 98,
     "metadata": {},
     "output_type": "execute_result"
    }
   ],
   "source": [
    "# map \n",
    "x = [\"ab\",\"df\"]\n",
    "list(map(list,x))"
   ]
  },
  {
   "cell_type": "code",
   "execution_count": 110,
   "metadata": {},
   "outputs": [
    {
     "data": {
      "text/plain": [
       "[['a', 's', 'd', 'e', 'f', 'g', 'r', '0'], ['h', 'e', 'l', 'l', 'o']]"
      ]
     },
     "execution_count": 110,
     "metadata": {},
     "output_type": "execute_result"
    }
   ],
   "source": [
    "list(map(list,[\"asdefgr0\",\"hello\"]))"
   ]
  },
  {
   "cell_type": "code",
   "execution_count": null,
   "metadata": {},
   "outputs": [],
   "source": []
  }
 ],
 "metadata": {
  "kernelspec": {
   "display_name": "Python 3",
   "language": "python",
   "name": "python3"
  },
  "language_info": {
   "codemirror_mode": {
    "name": "ipython",
    "version": 3
   },
   "file_extension": ".py",
   "mimetype": "text/x-python",
   "name": "python",
   "nbconvert_exporter": "python",
   "pygments_lexer": "ipython3",
   "version": "3.12.4"
  }
 },
 "nbformat": 4,
 "nbformat_minor": 2
}
