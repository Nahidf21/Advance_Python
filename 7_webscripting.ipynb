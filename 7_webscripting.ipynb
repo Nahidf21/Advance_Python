{
 "cells": [
  {
   "cell_type": "code",
   "execution_count": 1,
   "metadata": {},
   "outputs": [],
   "source": [
    "# Import necessary libraries\n",
    "import requests as r\n",
    "from bs4 import BeautifulSoup"
   ]
  },
  {
   "cell_type": "code",
   "execution_count": 3,
   "metadata": {},
   "outputs": [],
   "source": [
    "# Specify the URL to be fetched\n",
    "url = 'http://drd.ba.ttu.edu/isqs6339/labs/lab1/'\n",
    "\n",
    "# Make a GET request to the URL\n",
    "res = r.get(url)\n",
    "\n",
    "# Check if there was a redirect when accessing the URL\n",
    "is_redirecting = res.history"
   ]
  },
  {
   "cell_type": "code",
   "execution_count": 4,
   "metadata": {},
   "outputs": [
    {
     "name": "stdout",
     "output_type": "stream",
     "text": [
      "Status Code of call :  200\n",
      "Page is Redirecting : False\n",
      "Current page Encoding : UTF-8 \n",
      "{'Content-Type': 'text/html; charset=UTF-8', 'Server': 'Microsoft-IIS/10.0', 'X-Powered-By': 'PHP/7.0.33, ASP.NET', 'Date': 'Fri, 30 Aug 2024 04:30:35 GMT', 'Content-Length': '1289'} \n",
      "\n",
      "***Task #2**\n"
     ]
    }
   ],
   "source": [
    "\n",
    "# Parse the content of the response using BeautifulSoup\n",
    "soup=BeautifulSoup(res.content,'html')\n",
    "\n",
    "# Display the HTTP status code of the response\n",
    "print(f\"Status Code of call :  {res.status_code}\")\n",
    "\n",
    "# Check and display if the page is redirecting\n",
    "print(f\"Page is Redirecting : {bool(is_redirecting)}\")\n",
    "\n",
    "# Display the encoding of the page\n",
    "print(f\"Current page Encoding : {res.encoding} \")\n",
    "\n",
    "# Display headers returned by the server\n",
    "print(res.headers,\"\\n\")\n",
    "\n",
    "# Print output for Task #2\n",
    "print(\"***Task #2**\")"
   ]
  },
  {
   "cell_type": "code",
   "execution_count": 5,
   "metadata": {},
   "outputs": [
    {
     "name": "stdout",
     "output_type": "stream",
     "text": [
      "The following are values for the iphone 11 Pro\n",
      "Color:  Midnight Green\n",
      "OS:  IOS 13\n",
      "***Task #3**\n"
     ]
    },
    {
     "name": "stderr",
     "output_type": "stream",
     "text": [
      "C:\\Users\\nahid\\AppData\\Local\\Temp\\ipykernel_32228\\2498491705.py:5: DeprecationWarning: The 'text' argument to find()-type methods is deprecated. Use 'string' instead.\n",
      "  iphone_element = soup.find('span', text='iPhone 11 Pro')\n"
     ]
    }
   ],
   "source": [
    "# Find the div element with id \"phonelist\" from the parsed HTML\n",
    "search_result = soup.find('div', attrs={\"id\": \"phonelist\"})\n",
    "\n",
    "# Locate the span element with text 'iPhone 11 Pro'\n",
    "iphone_element = soup.find('span', text='iPhone 11 Pro')\n",
    "\n",
    "# Check if the iPhone 11 Pro span element was found\n",
    "if iphone_element:\n",
    "    # Find the parent 'li' tag of the span element\n",
    "    parent_li = iphone_element.find_parent('li', class_='root')\n",
    "\n",
    "    # Get all list item tags within the parent list\n",
    "    details = parent_li.find_all('li')\n",
    "\n",
    "    # Iterate over the list items to find and display the color and OS\n",
    "    for detail in details:\n",
    "        if 'Color:' in detail.text:\n",
    "            color = detail.text.split(': ')[1]\n",
    "        if 'OS:' in detail.text:\n",
    "            os = detail.text.split(': ')[1]\n",
    "            # Display the extracted details for iPhone 11 Pro\n",
    "    print(\"The following are values for the iphone 11 Pro\")\n",
    "    print('Color:', color)\n",
    "    print('OS:', os)\n",
    "else:\n",
    "    # If the span for iPhone 11 Pro was not found, display a message\n",
    "    print(\"iPhone 11 Pro not found.\")\n",
    "\n",
    "print(\"***Task #3**\")"
   ]
  },
  {
   "cell_type": "code",
   "execution_count": null,
   "metadata": {},
   "outputs": [],
   "source": []
  }
 ],
 "metadata": {
  "kernelspec": {
   "display_name": "Python 3",
   "language": "python",
   "name": "python3"
  },
  "language_info": {
   "codemirror_mode": {
    "name": "ipython",
    "version": 3
   },
   "file_extension": ".py",
   "mimetype": "text/x-python",
   "name": "python",
   "nbconvert_exporter": "python",
   "pygments_lexer": "ipython3",
   "version": "3.12.4"
  }
 },
 "nbformat": 4,
 "nbformat_minor": 2
}
