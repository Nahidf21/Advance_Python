{
 "cells": [
  {
   "cell_type": "code",
   "execution_count": 1,
   "metadata": {},
   "outputs": [],
   "source": [
    "from abc import ABC,abstractmethod"
   ]
  },
  {
   "cell_type": "code",
   "execution_count": 11,
   "metadata": {},
   "outputs": [
    {
     "name": "stdout",
     "output_type": "stream",
     "text": [
      "print the name Nahid\n"
     ]
    }
   ],
   "source": [
    "class Abs_tract(ABC):\n",
    "    @abstractmethod\n",
    "    def my_info():\n",
    "        pass\n",
    "\n",
    "\n",
    "class sub_class(Abs_tract):\n",
    "\n",
    "    def __init__(self, name, age, skill):\n",
    "        self.name= name \n",
    "        self.age= age\n",
    "        self.skill=skill\n",
    "    \n",
    "    def my_info(self):\n",
    "        print(f\"print the name {self.name}\")\n",
    "\n",
    "\n",
    "x= sub_class(\"Nahid\",23, \"Data\")\n",
    "x.my_info()"
   ]
  },
  {
   "cell_type": "code",
   "execution_count": 18,
   "metadata": {},
   "outputs": [
    {
     "data": {
      "text/plain": [
       "'Ferdous'"
      ]
     },
     "execution_count": 18,
     "metadata": {},
     "output_type": "execute_result"
    }
   ],
   "source": [
    "def my_name(func):\n",
    "    def B(*args,**kwargs):\n",
    "        l=[]\n",
    "        for i in args[1]:\n",
    "            l.append(i)\n",
    "        return l[1]\n",
    "    return B\n",
    "\n",
    "@my_name\n",
    "def my(name, lists):\n",
    "    return lists\n",
    "\n",
    "my(\"Nahid\", [\"nahid\",\"Ferdous\"])"
   ]
  }
 ],
 "metadata": {
  "kernelspec": {
   "display_name": "Python 3",
   "language": "python",
   "name": "python3"
  },
  "language_info": {
   "codemirror_mode": {
    "name": "ipython",
    "version": 3
   },
   "file_extension": ".py",
   "mimetype": "text/x-python",
   "name": "python",
   "nbconvert_exporter": "python",
   "pygments_lexer": "ipython3",
   "version": "3.12.4"
  }
 },
 "nbformat": 4,
 "nbformat_minor": 2
}
