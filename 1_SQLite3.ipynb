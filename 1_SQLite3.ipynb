{
 "cells": [
  {
   "cell_type": "markdown",
   "metadata": {},
   "source": [
    "# SQLite"
   ]
  },
  {
   "cell_type": "code",
   "execution_count": 1,
   "metadata": {},
   "outputs": [],
   "source": [
    "import sqlite3"
   ]
  },
  {
   "cell_type": "code",
   "execution_count": 3,
   "metadata": {},
   "outputs": [
    {
     "data": {
      "text/plain": [
       "<sqlite3.Connection at 0x1993d9edf30>"
      ]
     },
     "execution_count": 3,
     "metadata": {},
     "output_type": "execute_result"
    }
   ],
   "source": [
    "## Connect to an SQLite database\n",
    "connection = sqlite3.connect(\"example.db\")\n",
    "connection"
   ]
  },
  {
   "cell_type": "code",
   "execution_count": 4,
   "metadata": {},
   "outputs": [],
   "source": [
    "curor = connection.cursor()\n"
   ]
  },
  {
   "cell_type": "code",
   "execution_count": 5,
   "metadata": {},
   "outputs": [],
   "source": [
    "## create a Table \n",
    "curor.execute('''\n",
    "Create Table If Not Exists employess(\n",
    "    id Integer Primary Key,\n",
    "    name Text not Null,\n",
    "    age Integer,\n",
    "    department text\n",
    "    )\n",
    "''')\n",
    "## Commit the changes \n",
    "connection.commit()"
   ]
  },
  {
   "cell_type": "code",
   "execution_count": 7,
   "metadata": {},
   "outputs": [
    {
     "data": {
      "text/plain": [
       "<sqlite3.Cursor at 0x1993d45a240>"
      ]
     },
     "execution_count": 7,
     "metadata": {},
     "output_type": "execute_result"
    }
   ],
   "source": [
    "curor.execute(\"\"\" \n",
    "Select * from employess\n",
    "              \n",
    "\"\"\")"
   ]
  },
  {
   "cell_type": "code",
   "execution_count": 9,
   "metadata": {},
   "outputs": [],
   "source": [
    "## Insert the data in sqlite table \n",
    "curor.execute(\"\"\" \n",
    "              \n",
    "INSERT INTO employess(name,age, department)\n",
    "VALUES(\"Nahid\",32,\"Engineering\")\n",
    "              \n",
    "\"\"\")\n",
    "\n",
    "curor.execute(\"\"\" \n",
    "              \n",
    "INSERT INTO employess(name,age, department)\n",
    "VALUES(\"Ferdous\",34,\"Data Science\")\n",
    "              \n",
    "\"\"\")\n",
    "\n",
    "## Connection \n",
    "connection.commit()"
   ]
  },
  {
   "cell_type": "code",
   "execution_count": 10,
   "metadata": {},
   "outputs": [
    {
     "name": "stdout",
     "output_type": "stream",
     "text": [
      "(1, 'Nahid', 32, 'Engineering')\n",
      "(2, 'Ferdous', 34, 'Data Science')\n"
     ]
    }
   ],
   "source": [
    "## Query the data from the table \n",
    "curor.execute(\"Select * from employess\")\n",
    "rows=curor.fetchall()\n",
    "\n",
    "## print the queries data\n",
    "for row in rows:\n",
    "    print(row)"
   ]
  },
  {
   "cell_type": "code",
   "execution_count": 11,
   "metadata": {},
   "outputs": [],
   "source": [
    "#Update the data in the table \n",
    "curor.execute('''\n",
    "UPDATE employess\n",
    "Set age= 35\n",
    "where name = \"Ferdous\"\n",
    "\n",
    "''')\n",
    "\n",
    "connection.commit()"
   ]
  },
  {
   "cell_type": "code",
   "execution_count": 12,
   "metadata": {},
   "outputs": [
    {
     "name": "stdout",
     "output_type": "stream",
     "text": [
      "(1, 'Nahid', 32, 'Engineering')\n",
      "(2, 'Ferdous', 35, 'Data Science')\n"
     ]
    }
   ],
   "source": [
    "## Query the data from the table \n",
    "curor.execute(\"Select * from employess\")\n",
    "rows=curor.fetchall()\n",
    "\n",
    "## print the queries data\n",
    "for row in rows:\n",
    "    print(row)"
   ]
  },
  {
   "cell_type": "code",
   "execution_count": 13,
   "metadata": {},
   "outputs": [
    {
     "data": {
      "text/plain": [
       "<sqlite3.Cursor at 0x1993d45a240>"
      ]
     },
     "execution_count": 13,
     "metadata": {},
     "output_type": "execute_result"
    }
   ],
   "source": [
    "# Delete the data from the table \n",
    "curor.execute('''\n",
    "Delete from employess\n",
    "              where name = \"Ferdous\"\n",
    "\n",
    "''')\n"
   ]
  },
  {
   "cell_type": "code",
   "execution_count": 14,
   "metadata": {},
   "outputs": [
    {
     "name": "stdout",
     "output_type": "stream",
     "text": [
      "(1, 'Nahid', 32, 'Engineering')\n"
     ]
    }
   ],
   "source": [
    "## Query the data from the table \n",
    "curor.execute(\"Select * from employess\")\n",
    "rows=curor.fetchall()\n",
    "\n",
    "## print the queries data\n",
    "for row in rows:\n",
    "    print(row)"
   ]
  },
  {
   "cell_type": "code",
   "execution_count": 24,
   "metadata": {},
   "outputs": [],
   "source": [
    "\n",
    "import sqlite3\n",
    "## Working with Sales Data\n",
    "## Connect to an SQLite database\n",
    "Connection = sqlite3.connect('sales_data.db')\n",
    "cursor =connection.cursor()\n",
    "\n",
    "# Create a table for sales data\n",
    "curor.execute('''\n",
    "CREATE TABLE If not Exists slaes(\n",
    "\n",
    "              id INTEGER PRIMARY KEY,\n",
    "              date TEXT Not NULL,\n",
    "              product TEXT NOT NULL,\n",
    "              sales INTEGER,\n",
    "              region TEXT\n",
    "              )\n",
    "''')\n",
    "\n",
    "# Insert data into the sales table\n",
    "sales_data = [\n",
    "    ('2023-01-01', 'Product1', 100, \"North\"),\n",
    "    ('2023-01-02', 'Product2', 200, \"South\"),\n",
    "    ('2023-01-03', 'Product3', 300, \"East\"),\n",
    "    ('2023-01-04', 'Product4', 200, \"West\")\n",
    "]\n",
    "\n"
   ]
  },
  {
   "cell_type": "code",
   "execution_count": 27,
   "metadata": {},
   "outputs": [
    {
     "data": {
      "text/plain": [
       "<sqlite3.Cursor at 0x1993d9f2140>"
      ]
     },
     "execution_count": 27,
     "metadata": {},
     "output_type": "execute_result"
    }
   ],
   "source": [
    "\n",
    "cursor.executemany('''\n",
    "Insert into slaes (date, product, sales, region)\n",
    "                  values(?,?,?,?)\n",
    "''',sales_data)"
   ]
  },
  {
   "cell_type": "code",
   "execution_count": 28,
   "metadata": {},
   "outputs": [],
   "source": [
    "connection.commit()"
   ]
  },
  {
   "cell_type": "code",
   "execution_count": 32,
   "metadata": {},
   "outputs": [
    {
     "name": "stdout",
     "output_type": "stream",
     "text": [
      "(1, '2023-01-01', 'Product1', 100, 'North')\n",
      "(2, '2023-01-02', 'Product2', 200, 'South')\n",
      "(3, '2023-01-03', 'Product3', 300, 'East')\n",
      "(4, '2023-01-04', 'Product4', 200, 'West')\n"
     ]
    }
   ],
   "source": [
    "## Query the data from the table \n",
    "cursor.execute(\"Select * from slaes\")\n",
    "rows=cursor.fetchall()\n",
    "\n",
    "## print the queries data\n",
    "for row in rows:\n",
    "    print(row)"
   ]
  },
  {
   "cell_type": "code",
   "execution_count": 33,
   "metadata": {},
   "outputs": [],
   "source": [
    "## Close The connection \n",
    "connection.close()"
   ]
  }
 ],
 "metadata": {
  "kernelspec": {
   "display_name": "Python 3",
   "language": "python",
   "name": "python3"
  },
  "language_info": {
   "codemirror_mode": {
    "name": "ipython",
    "version": 3
   },
   "file_extension": ".py",
   "mimetype": "text/x-python",
   "name": "python",
   "nbconvert_exporter": "python",
   "pygments_lexer": "ipython3",
   "version": "3.12.4"
  }
 },
 "nbformat": 4,
 "nbformat_minor": 2
}
