{
 "cells": [
  {
   "cell_type": "code",
   "execution_count": 6,
   "metadata": {},
   "outputs": [],
   "source": [
    "##Inheritance\n",
    "## Parents Class\n",
    "class car:\n",
    "    def __init__(self,windows,doors,enginetype):\n",
    "        self.__windows=windows\n",
    "        self.doors=doors\n",
    "        self.enginetype=enginetype\n",
    "\n",
    "    def drive(self):\n",
    "        print(f\"The person will drive the {self.enginetype} car\")\n",
    "        \n"
   ]
  },
  {
   "cell_type": "code",
   "execution_count": 11,
   "metadata": {},
   "outputs": [
    {
     "name": "stdout",
     "output_type": "stream",
     "text": [
      "The person will drive the Petrol car\n",
      "5\n"
     ]
    }
   ],
   "source": [
    "car1=car(4,5,\"Petrol\")\n",
    "car1.drive()\n",
    "print(car1.doors)"
   ]
  },
  {
   "cell_type": "code",
   "execution_count": 15,
   "metadata": {},
   "outputs": [],
   "source": [
    "class Tesla(car):\n",
    "    def __init__(self, windows, doors, enginetype, is_selfdriving):\n",
    "        super().__init__(windows, doors, enginetype)\n",
    "        self.is_selfdriving=is_selfdriving\n",
    "\n",
    "    def selfdrining(self):\n",
    "        print(f\"Tesla Supports self driving : {self.is_selfdriving}\")\n",
    "\n"
   ]
  },
  {
   "cell_type": "code",
   "execution_count": 17,
   "metadata": {},
   "outputs": [
    {
     "name": "stdout",
     "output_type": "stream",
     "text": [
      "Tesla Supports self driving : Yes\n",
      "The person will drive the Electric car\n"
     ]
    }
   ],
   "source": [
    "testa1= Tesla(4,5,\"Electric\",\"Yes\")\n",
    "testa1.selfdrining()\n",
    "testa1.drive()"
   ]
  },
  {
   "cell_type": "code",
   "execution_count": 45,
   "metadata": {},
   "outputs": [],
   "source": [
    "## Base Class1\n",
    "class Animal:\n",
    "    def __init__(self, name, age, owner):\n",
    "        self.name= name\n",
    "        self.age=age\n",
    "        self.owner= owner\n",
    "    def pet(self):\n",
    "        print(f\"The name of the pet : {self.name}\")\n",
    "        print(f\"The age of the pet : {self.age}\")\n",
    "    def Owner_info(self):\n",
    "        print(f\"The name of the owner {self.owner} and the pat name {self.name}\")"
   ]
  },
  {
   "cell_type": "code",
   "execution_count": 40,
   "metadata": {},
   "outputs": [],
   "source": [
    "## Base Class2\n",
    "class Behavior:\n",
    "    def __init__(self,bark,color,name):\n",
    "        self.bark= bark\n",
    "        self.color=color\n",
    "        self.name=name\n",
    "    def habit(self):\n",
    "        print(f\"The color of the animal is {self.color}\")\n",
    "        print(f\"{self.name}  barkes like {self.bark}\")"
   ]
  },
  {
   "cell_type": "code",
   "execution_count": 48,
   "metadata": {},
   "outputs": [],
   "source": [
    "## Drived Class \n",
    "class Dog(Animal,Behavior):\n",
    "    def __init__(self, name, age, owner, bark, color,locetion):\n",
    "        Animal.__init__(self,name,age,owner)\n",
    "        Behavior.__init__(self,bark,color,name)\n",
    "\n",
    "        self.locetion=locetion\n",
    "\n",
    "    def Address(self):\n",
    "        print(f\"The locetion of the {self.owner} is : {self.locetion}\")\n",
    "\n"
   ]
  },
  {
   "cell_type": "code",
   "execution_count": 49,
   "metadata": {},
   "outputs": [],
   "source": [
    "Dog1= Dog(\"Banjo\",2,\"Abid\",\"Meo Meo\",\"Black and White\",\"Tomball\")"
   ]
  },
  {
   "cell_type": "code",
   "execution_count": 50,
   "metadata": {},
   "outputs": [
    {
     "name": "stdout",
     "output_type": "stream",
     "text": [
      "The name of the owner Abid and the pat name Banjo\n",
      "The locetion of the Abid is : Tomball\n",
      "The color of the animal is Black and White\n",
      "Banjo  barkes like Meo Meo\n",
      "The name of the pet : Banjo\n",
      "The age of the pet : 2\n"
     ]
    }
   ],
   "source": [
    "\n",
    "Dog1.Owner_info()\n",
    "Dog1.Address()\n",
    "Dog1.habit()\n",
    "Dog1.pet()"
   ]
  }
 ],
 "metadata": {
  "kernelspec": {
   "display_name": "Python 3",
   "language": "python",
   "name": "python3"
  },
  "language_info": {
   "codemirror_mode": {
    "name": "ipython",
    "version": 3
   },
   "file_extension": ".py",
   "mimetype": "text/x-python",
   "name": "python",
   "nbconvert_exporter": "python",
   "pygments_lexer": "ipython3",
   "version": "3.10.0"
  }
 },
 "nbformat": 4,
 "nbformat_minor": 2
}
