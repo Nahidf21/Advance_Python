{
 "cells": [
  {
   "cell_type": "markdown",
   "id": "83301210-2300-4fc3-b0c3-a6affa3e13b4",
   "metadata": {},
   "source": [
    "# Multithreading"
   ]
  },
  {
   "cell_type": "code",
   "execution_count": 14,
   "id": "15aa81ec-34a9-4abd-9abb-42d0579d31ec",
   "metadata": {},
   "outputs": [],
   "source": [
    "import threading\n",
    "import time"
   ]
  },
  {
   "cell_type": "code",
   "execution_count": 29,
   "id": "0c6f1df8-d493-4f41-a4cc-bb6afb3b2fb1",
   "metadata": {},
   "outputs": [],
   "source": [
    "def print_number():\n",
    "    for i in range(5):\n",
    "        time.sleep(2)\n",
    "        print(f\"Number:{i}\")\n",
    "def print_letter():\n",
    "    for letter in \"abcde\":\n",
    "        time.sleep(2)\n",
    "        print(f\"Letter: {letter}\")\n",
    "    "
   ]
  },
  {
   "cell_type": "code",
   "execution_count": 31,
   "id": "4503b908-c142-4779-9843-b85a2d398c17",
   "metadata": {},
   "outputs": [
    {
     "name": "stdout",
     "output_type": "stream",
     "text": [
      "1724448964.8239841\n",
      "Number:0\n",
      "Number:1\n",
      "Number:2\n",
      "Number:3\n",
      "Number:4\n",
      "Letter: a\n",
      "Letter: b\n",
      "Letter: c\n",
      "Letter: d\n",
      "Letter: e\n",
      "20.04421377182007\n",
      "20.044124841690063\n"
     ]
    }
   ],
   "source": [
    "# Start the timer\n",
    "t = time.time()\n",
    "print(t)\n",
    "# Execute the functions\n",
    "print_number()\n",
    "print_letter()\n",
    "\n",
    "# Calculate the elapsed time\n",
    "finished_time = time.time() - t\n",
    "print(time.time() - t)\n",
    "print(finished_time)"
   ]
  },
  {
   "cell_type": "code",
   "execution_count": 37,
   "id": "36265185-6560-45c6-b4c5-d20d28116f9f",
   "metadata": {},
   "outputs": [],
   "source": [
    "def print_number():\n",
    "    for i in range(5):\n",
    "        time.sleep(2)\n",
    "        print(f\"Number:{i}\")\n",
    "def print_letter():\n",
    "    for letter in \"abcde\":\n",
    "        time.sleep(2)\n",
    "        print(f\"Letter: {letter}\")"
   ]
  },
  {
   "cell_type": "code",
   "execution_count": 50,
   "id": "fe6dc47a-ae20-4d72-8b62-a784da44bad3",
   "metadata": {},
   "outputs": [
    {
     "name": "stdout",
     "output_type": "stream",
     "text": [
      "Letter: dNumber:3\n",
      "\n",
      "Number:0Letter: a\n",
      "\n",
      "Number:4Letter: e\n",
      "\n",
      "Letter: bNumber:1\n",
      "\n",
      "Number:2Letter: c\n",
      "\n",
      "Letter: dNumber:3\n",
      "\n",
      "Number:4\n",
      "Letter: e\n",
      "10.021389722824097\n"
     ]
    }
   ],
   "source": [
    "t1= threading.Thread(target=print_number)\n",
    "t2= threading.Thread(target=print_letter)\n",
    "\n",
    "# Start the timer\n",
    "t = time.time()\n",
    "# Start the thread\n",
    "t1.start()\n",
    "t2.start()\n",
    "# wait for the threads to complete\n",
    "t1.join()\n",
    "t2.join()\n",
    "# Calculate the elapsed time\n",
    "finished_time = time.time() - t\n",
    "print(finished_time)"
   ]
  },
  {
   "cell_type": "code",
   "execution_count": 44,
   "id": "bd87fcb0-18ff-4481-897e-dd5ed8b2f6f1",
   "metadata": {},
   "outputs": [
    {
     "name": "stdout",
     "output_type": "stream",
     "text": [
      "Number:0Letter: a\n",
      "\n",
      "Letter: bNumber:1\n",
      "\n",
      "Number:2Letter: c\n",
      "\n",
      "Letter: d\n",
      "Number:3\n",
      "Letter: eNumber:4\n",
      "\n",
      "Time taken: 10.02137804031372 seconds\n"
     ]
    }
   ],
   "source": [
    "# Create threads\n",
    "t1 = threading.Thread(target=print_number)\n",
    "t2 = threading.Thread(target=print_letter)\n",
    "\n",
    "# Start the timer\n",
    "t = time.time()\n",
    "\n",
    "# Start the threads\n",
    "t1.start()\n",
    "t2.start()\n",
    "\n",
    "# Wait for the threads to complete\n",
    "t1.join()\n",
    "t2.join()\n",
    "\n",
    "# Calculate the elapsed time\n",
    "finished_time = time.time() - t\n",
    "\n",
    "# Print the elapsed time\n",
    "print(f\"Time taken: {finished_time} seconds\")"
   ]
  },
  {
   "cell_type": "code",
   "execution_count": null,
   "id": "5d2b10b4-da76-412e-9abf-1d79018ab52e",
   "metadata": {},
   "outputs": [],
   "source": []
  }
 ],
 "metadata": {
  "kernelspec": {
   "display_name": "Python 3 (ipykernel)",
   "language": "python",
   "name": "python3"
  },
  "language_info": {
   "codemirror_mode": {
    "name": "ipython",
    "version": 3
   },
   "file_extension": ".py",
   "mimetype": "text/x-python",
   "name": "python",
   "nbconvert_exporter": "python",
   "pygments_lexer": "ipython3",
   "version": "3.10.13"
  }
 },
 "nbformat": 4,
 "nbformat_minor": 5
}
