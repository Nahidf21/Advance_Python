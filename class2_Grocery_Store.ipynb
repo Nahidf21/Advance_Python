{
 "cells": [
  {
   "cell_type": "code",
   "execution_count": 14,
   "metadata": {},
   "outputs": [],
   "source": [
    "class Grocery:\n",
    "    total_quantity = 0\n",
    "    apple_total = 0\n",
    "    mango_total = 0\n",
    "    \n",
    "    def __init__(self, product, quantity=0, price=0):\n",
    "        self.product = product\n",
    "        self.quantity = quantity\n",
    "        self.price = price\n",
    "    \n",
    "    def update_quantity(self):\n",
    "        Grocery.total_quantity += self.quantity\n",
    "        print(f\"Total Quantity = {Grocery.total_quantity}\") \n",
    "        \n",
    "        if self.product == \"Apple\":\n",
    "            Grocery.apple_total += self.quantity\n",
    "        \n",
    "        elif self.product == \"Mango\":\n",
    "            Grocery.mango_total += self.quantity\n",
    "\n",
    "        print(f\"Apple in Stock = {Grocery.apple_total}\")\n",
    "        print(f\"Mango in Stock = {Grocery.mango_total}\")\n",
    "\n",
    "\n"
   ]
  },
  {
   "cell_type": "code",
   "execution_count": 15,
   "metadata": {},
   "outputs": [
    {
     "name": "stdout",
     "output_type": "stream",
     "text": [
      "Total Quantity = 10\n",
      "Apple in Stock = 10\n",
      "Mango in Stock = 0\n"
     ]
    }
   ],
   "source": [
    "# Example usage:\n",
    "item1 = Grocery(\"Apple\", 10)\n",
    "item1.update_quantity()\n",
    "\n"
   ]
  },
  {
   "cell_type": "code",
   "execution_count": 16,
   "metadata": {},
   "outputs": [
    {
     "name": "stdout",
     "output_type": "stream",
     "text": [
      "Total Quantity = 30\n",
      "Apple in Stock = 10\n",
      "Mango in Stock = 20\n"
     ]
    }
   ],
   "source": [
    "item2 = Grocery(\"Mango\", 20)\n",
    "item2.update_quantity()\n",
    "\n"
   ]
  },
  {
   "cell_type": "code",
   "execution_count": 18,
   "metadata": {},
   "outputs": [
    {
     "name": "stdout",
     "output_type": "stream",
     "text": [
      "Total Quantity = 40\n",
      "Apple in Stock = 20\n",
      "Mango in Stock = 20\n"
     ]
    }
   ],
   "source": [
    "item3 = Grocery(\"Apple\", 5)\n",
    "item3.update_quantity()"
   ]
  },
  {
   "cell_type": "code",
   "execution_count": null,
   "metadata": {},
   "outputs": [],
   "source": []
  }
 ],
 "metadata": {
  "kernelspec": {
   "display_name": "Python 3",
   "language": "python",
   "name": "python3"
  },
  "language_info": {
   "codemirror_mode": {
    "name": "ipython",
    "version": 3
   },
   "file_extension": ".py",
   "mimetype": "text/x-python",
   "name": "python",
   "nbconvert_exporter": "python",
   "pygments_lexer": "ipython3",
   "version": "3.10.0"
  }
 },
 "nbformat": 4,
 "nbformat_minor": 2
}
