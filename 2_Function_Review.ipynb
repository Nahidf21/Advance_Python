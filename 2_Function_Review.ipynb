{
 "cells": [
  {
   "cell_type": "markdown",
   "metadata": {},
   "source": [
    "# Decorator"
   ]
  },
  {
   "cell_type": "code",
   "execution_count": 22,
   "metadata": {},
   "outputs": [
    {
     "name": "stdout",
     "output_type": "stream",
     "text": [
      "This is the Sub Function \n",
      "The name is nahid\n"
     ]
    }
   ],
   "source": [
    "def main(func):\n",
    "    def sub(*name,**age):\n",
    "        print(\"This is the Sub Function \")\n",
    "        result = func(*name, **age)\n",
    "        #print(\"Arfet the sub applyed the arguments are {args} and {kwargs}\")\n",
    "        return result\n",
    "    \n",
    "    return sub\n",
    "\n",
    "@main\n",
    "def print_name(osa):\n",
    "    print(f\"The name is {osa}\")\n",
    "\n",
    "print_name(\"nahid\")"
   ]
  },
  {
   "cell_type": "code",
   "execution_count": 17,
   "metadata": {},
   "outputs": [
    {
     "name": "stdout",
     "output_type": "stream",
     "text": [
      "This is the Sub Function \n",
      "The name is Hello\n"
     ]
    }
   ],
   "source": [
    "def main(func):\n",
    "    def sub(*args, **kwargs):\n",
    "        print(\"This is the Sub Function \")\n",
    "        result = func(*args, **kwargs)\n",
    "        return result\n",
    "    \n",
    "    return sub\n",
    "\n",
    "@main\n",
    "def print_name(name):\n",
    "    print(f\"The name is {name}\")\n",
    "\n",
    "print_name(\"Hello\")\n"
   ]
  },
  {
   "cell_type": "code",
   "execution_count": 37,
   "metadata": {},
   "outputs": [
    {
     "name": "stdout",
     "output_type": "stream",
     "text": [
      "Function two ('hello',)\n",
      "hello\n"
     ]
    }
   ],
   "source": [
    "def fun_main(func):\n",
    "\n",
    "   \n",
    "    \n",
    "\n",
    "    def func_2(*arg2):\n",
    "        print(f\"Function two {arg2}\")\n",
    "        return func(*arg2)\n",
    "    return func_2\n",
    "\n",
    "@fun_main\n",
    "def print_name(name):\n",
    "    print(name)\n",
    "\n",
    "print_name(\"hello\")\n"
   ]
  },
  {
   "cell_type": "code",
   "execution_count": 41,
   "metadata": {},
   "outputs": [
    {
     "name": "stdout",
     "output_type": "stream",
     "text": [
      "Nahid\n"
     ]
    }
   ],
   "source": [
    "class A:\n",
    "    def __init__(self,name,age):\n",
    "        self.name=name\n",
    "        self.age=age\n",
    "\n",
    "    def name1(self):\n",
    "        print(self.name)\n",
    "\n",
    "A1= A(\"Nahid\",23)\n",
    "A1.name1()"
   ]
  },
  {
   "cell_type": "code",
   "execution_count": 70,
   "metadata": {},
   "outputs": [
    {
     "name": "stdout",
     "output_type": "stream",
     "text": [
      "1\n",
      "1\n",
      "3\n",
      "3\n",
      "4\n"
     ]
    }
   ],
   "source": [
    "import random as rn \n",
    "def pick_number(s,number):\n",
    "    for x in range(s,number):\n",
    "        yield x\n",
    "        \n",
    "\n",
    "for i in pick_number(1,6):\n",
    "    print(rn.randint(1,i))"
   ]
  },
  {
   "cell_type": "code",
   "execution_count": 81,
   "metadata": {},
   "outputs": [
    {
     "data": {
      "text/plain": [
       "[1, 4, 7, 10, 13, 16, 19, 22, 25, 28, 31, 34, 37, 40, 43, 46, 49]"
      ]
     },
     "execution_count": 81,
     "metadata": {},
     "output_type": "execute_result"
    }
   ],
   "source": [
    "x=[ x for x in range(1,50,3)]\n",
    "x"
   ]
  },
  {
   "cell_type": "code",
   "execution_count": 108,
   "metadata": {},
   "outputs": [
    {
     "data": {
      "text/plain": [
       "[7, 28, 19, 37, 25, 49, 1, 4, 31, 16, 40, 13, 34, 43, 10, 46, 22]"
      ]
     },
     "execution_count": 108,
     "metadata": {},
     "output_type": "execute_result"
    }
   ],
   "source": [
    "random_list1 = rn.sample(x, len(x))\n",
    "random_list1"
   ]
  },
  {
   "cell_type": "code",
   "execution_count": 84,
   "metadata": {},
   "outputs": [
    {
     "data": {
      "text/plain": [
       "[46, 22, 19, 49, 1, 25, 4, 43, 7, 31, 28, 34, 16, 37, 40, 13, 10]"
      ]
     },
     "execution_count": 84,
     "metadata": {},
     "output_type": "execute_result"
    }
   ],
   "source": [
    "random_list2 = rn.sample(x, len(x))\n",
    "random_list2"
   ]
  },
  {
   "cell_type": "code",
   "execution_count": 86,
   "metadata": {},
   "outputs": [
    {
     "data": {
      "text/plain": [
       "1"
      ]
     },
     "execution_count": 86,
     "metadata": {},
     "output_type": "execute_result"
    }
   ],
   "source": [
    "#list Count Methode  \n",
    "random_list1.count(10)"
   ]
  },
  {
   "cell_type": "code",
   "execution_count": 154,
   "metadata": {},
   "outputs": [
    {
     "data": {
      "text/plain": [
       "11"
      ]
     },
     "execution_count": 154,
     "metadata": {},
     "output_type": "execute_result"
    }
   ],
   "source": [
    "#list appand Methode\n",
    "random_list1.append(10)\n",
    "#list index Methode\n",
    "random_list1.index(10)"
   ]
  },
  {
   "cell_type": "code",
   "execution_count": 133,
   "metadata": {},
   "outputs": [],
   "source": [
    "#list insert Methode one positional argument and one value\n",
    "random_list1.insert(2,11)\n",
    "\n"
   ]
  },
  {
   "cell_type": "code",
   "execution_count": 106,
   "metadata": {},
   "outputs": [],
   "source": [
    "# remove methode remove only the first mathing value \n",
    "random_list1.remove(10) "
   ]
  },
  {
   "cell_type": "code",
   "execution_count": 170,
   "metadata": {},
   "outputs": [
    {
     "data": {
      "text/plain": [
       "[]"
      ]
     },
     "execution_count": 170,
     "metadata": {},
     "output_type": "execute_result"
    }
   ],
   "source": [
    "# clear methode clean the list \n",
    "random_list1.clear()\n",
    "random_list1"
   ]
  },
  {
   "cell_type": "code",
   "execution_count": 174,
   "metadata": {},
   "outputs": [],
   "source": [
    "for i in rn.sample([1,2,3,4,5,6], len([1,2,3,4,5,6])):\n",
    "    random_list1.append(i)"
   ]
  },
  {
   "cell_type": "code",
   "execution_count": 175,
   "metadata": {},
   "outputs": [
    {
     "data": {
      "text/plain": [
       "[1, 4, 6, 3, 2, 5, 3, 4, 2, 5, 6, 1]"
      ]
     },
     "execution_count": 175,
     "metadata": {},
     "output_type": "execute_result"
    }
   ],
   "source": [
    "random_list1"
   ]
  },
  {
   "cell_type": "code",
   "execution_count": 180,
   "metadata": {},
   "outputs": [
    {
     "data": {
      "text/plain": [
       "3"
      ]
     },
     "execution_count": 180,
     "metadata": {},
     "output_type": "execute_result"
    }
   ],
   "source": [
    "# pop methode extract eliments from the list by the refarance of index \n",
    "random_list1.pop(4)"
   ]
  },
  {
   "cell_type": "code",
   "execution_count": 186,
   "metadata": {},
   "outputs": [
    {
     "name": "stdout",
     "output_type": "stream",
     "text": [
      " v = 1 and i =0\n",
      " v = 4 and i =1\n",
      " v = 6 and i =2\n",
      " v = 3 and i =3\n",
      " v = 4 and i =4\n",
      " v = 2 and i =5\n",
      " v = 5 and i =6\n",
      " v = 6 and i =7\n",
      " v = 1 and i =8\n"
     ]
    }
   ],
   "source": [
    "for i, v in enumerate(random_list1):\n",
    "    print(f\" v = {v} and i ={i}\")"
   ]
  },
  {
   "cell_type": "code",
   "execution_count": 190,
   "metadata": {},
   "outputs": [
    {
     "data": {
      "text/plain": [
       "{2: 1, 5: 4, 8: 7, 11: 10, 14: 13, 17: 16, 20: 19}"
      ]
     },
     "execution_count": 190,
     "metadata": {},
     "output_type": "execute_result"
    }
   ],
   "source": [
    "dic_1 = {x+1: x for x in range(1,20,3)}\n",
    "dic_1"
   ]
  },
  {
   "cell_type": "code",
   "execution_count": 191,
   "metadata": {},
   "outputs": [
    {
     "data": {
      "text/plain": [
       "dict_items([(2, 1), (5, 4), (8, 7), (11, 10), (14, 13), (17, 16), (20, 19)])"
      ]
     },
     "execution_count": 191,
     "metadata": {},
     "output_type": "execute_result"
    }
   ],
   "source": [
    "# items methode \n",
    "dic_1.items()"
   ]
  },
  {
   "cell_type": "code",
   "execution_count": 192,
   "metadata": {},
   "outputs": [
    {
     "data": {
      "text/plain": [
       "dict_values([1, 4, 7, 10, 13, 16, 19])"
      ]
     },
     "execution_count": 192,
     "metadata": {},
     "output_type": "execute_result"
    }
   ],
   "source": [
    "# value methode \n",
    "dic_1.values()"
   ]
  },
  {
   "cell_type": "code",
   "execution_count": 193,
   "metadata": {},
   "outputs": [
    {
     "data": {
      "text/plain": [
       "dict_keys([2, 5, 8, 11, 14, 17, 20])"
      ]
     },
     "execution_count": 193,
     "metadata": {},
     "output_type": "execute_result"
    }
   ],
   "source": [
    "#keys methode\n",
    "dic_1.keys()"
   ]
  },
  {
   "cell_type": "code",
   "execution_count": 195,
   "metadata": {},
   "outputs": [
    {
     "data": {
      "text/plain": [
       "13"
      ]
     },
     "execution_count": 195,
     "metadata": {},
     "output_type": "execute_result"
    }
   ],
   "source": [
    "# pop methode\n",
    "dic_1.pop(14)"
   ]
  },
  {
   "cell_type": "code",
   "execution_count": 236,
   "metadata": {},
   "outputs": [],
   "source": [
    "# Update methode join two dictonary\n",
    "dic_1.update({19 :12})"
   ]
  },
  {
   "cell_type": "code",
   "execution_count": 237,
   "metadata": {},
   "outputs": [],
   "source": [
    "# FromKeys Method\n",
    "x={}\n",
    "x =x.fromkeys((11, 14, 17), (12,23,12))"
   ]
  },
  {
   "cell_type": "code",
   "execution_count": 238,
   "metadata": {},
   "outputs": [
    {
     "name": "stdout",
     "output_type": "stream",
     "text": [
      "11 (12, 23, 12)\n",
      "14 (12, 23, 12)\n",
      "17 (12, 23, 12)\n"
     ]
    }
   ],
   "source": [
    "for i,c in x.items():\n",
    "    print(i,c)"
   ]
  },
  {
   "cell_type": "code",
   "execution_count": 239,
   "metadata": {},
   "outputs": [
    {
     "data": {
      "text/plain": [
       "(19, 12)"
      ]
     },
     "execution_count": 239,
     "metadata": {},
     "output_type": "execute_result"
    }
   ],
   "source": [
    "dic_1.popitem()"
   ]
  },
  {
   "cell_type": "code",
   "execution_count": 249,
   "metadata": {},
   "outputs": [
    {
     "data": {
      "text/plain": [
       "{12: 'add'}"
      ]
     },
     "execution_count": 249,
     "metadata": {},
     "output_type": "execute_result"
    }
   ],
   "source": [
    "dic_1[12] = \"add\"\n",
    "dic_1"
   ]
  },
  {
   "cell_type": "code",
   "execution_count": 245,
   "metadata": {},
   "outputs": [
    {
     "data": {
      "text/plain": [
       "(12, 'add')"
      ]
     },
     "execution_count": 245,
     "metadata": {},
     "output_type": "execute_result"
    }
   ],
   "source": [
    "dic_1.popitem()"
   ]
  },
  {
   "cell_type": "code",
   "execution_count": 252,
   "metadata": {},
   "outputs": [
    {
     "name": "stdout",
     "output_type": "stream",
     "text": [
      "0 1\n",
      "1 2\n",
      "2 3\n",
      "3 1\n",
      "4 2\n",
      "5 3\n"
     ]
    }
   ],
   "source": [
    "my_tuple = (1,2,3,1,2,3)\n",
    "for x,y in enumerate(my_tuple):\n",
    "    print(x,y)"
   ]
  },
  {
   "cell_type": "code",
   "execution_count": 255,
   "metadata": {},
   "outputs": [
    {
     "data": {
      "text/plain": [
       "{5, 12, 34}"
      ]
     },
     "execution_count": 255,
     "metadata": {},
     "output_type": "execute_result"
    }
   ],
   "source": [
    "set_1= {2,4,5,2,3,4,12,34}\n",
    "set_2= {2,1,4,3,7}\n",
    "new_set = set_1.difference(set_2)\n",
    "new_set"
   ]
  },
  {
   "cell_type": "code",
   "execution_count": 259,
   "metadata": {},
   "outputs": [],
   "source": [
    "\n",
    "# Shallow copy, If we apply Shallow copy then if we make change on the first set \n",
    "# the second set does not change \n",
    "set_1 = {1,2,3,5,6}\n",
    "set_2 = set_1.copy()"
   ]
  },
  {
   "cell_type": "code",
   "execution_count": 267,
   "metadata": {},
   "outputs": [
    {
     "name": "stdout",
     "output_type": "stream",
     "text": [
      "{1, 2, 3, 100, 5, 6}\n",
      "{1, 2, 3, 100, 5, 6}\n"
     ]
    }
   ],
   "source": [
    "# Add\n",
    "set_1.add(100)\n",
    "print(set_2)\n",
    "print(set_1)"
   ]
  },
  {
   "cell_type": "code",
   "execution_count": 264,
   "metadata": {},
   "outputs": [],
   "source": [
    "# Coppy\n",
    "set_1 = {1,2,3,5,6}\n",
    "set_2 = set_1"
   ]
  },
  {
   "cell_type": "code",
   "execution_count": 265,
   "metadata": {},
   "outputs": [
    {
     "name": "stdout",
     "output_type": "stream",
     "text": [
      "{1, 2, 3, 100, 5, 6}\n",
      "{1, 2, 3, 100, 5, 6}\n"
     ]
    }
   ],
   "source": [
    "set_1.add(100)\n",
    "print(set_2)\n",
    "print(set_1)"
   ]
  },
  {
   "cell_type": "code",
   "execution_count": 269,
   "metadata": {},
   "outputs": [
    {
     "data": {
      "text/plain": [
       "{1, 2, 3, 4, 5}"
      ]
     },
     "execution_count": 269,
     "metadata": {},
     "output_type": "execute_result"
    }
   ],
   "source": [
    "s = {1,1,1,2,3,4,4,5}\n",
    "s"
   ]
  },
  {
   "cell_type": "code",
   "execution_count": 279,
   "metadata": {},
   "outputs": [
    {
     "name": "stdout",
     "output_type": "stream",
     "text": [
      "The input arguments are (['nahid', 'Ferdous'],) and {'names': 'nahid', 'age': 21}\n",
      "The name of the function is ['nahid', 'Ferdous'] and {'names': 'nahid', 'age': 21}\n"
     ]
    }
   ],
   "source": [
    "def decoretor(func):\n",
    "    def func1(*args,**kwarg):\n",
    "        print( f\"The input arguments are {args} and {kwarg}\")\n",
    "        return func(*args,**kwarg)\n",
    "    return func1\n",
    "\n",
    "@decoretor\n",
    "def call_function(name,**names):\n",
    "    print(f\"The name of the function is {name} and {names}\")\n",
    "\n",
    "call_function([\"nahid\",\"Ferdous\"],names = \"nahid\",age =21)\n"
   ]
  }
 ],
 "metadata": {
  "kernelspec": {
   "display_name": "Python 3",
   "language": "python",
   "name": "python3"
  },
  "language_info": {
   "codemirror_mode": {
    "name": "ipython",
    "version": 3
   },
   "file_extension": ".py",
   "mimetype": "text/x-python",
   "name": "python",
   "nbconvert_exporter": "python",
   "pygments_lexer": "ipython3",
   "version": "3.12.4"
  }
 },
 "nbformat": 4,
 "nbformat_minor": 2
}
