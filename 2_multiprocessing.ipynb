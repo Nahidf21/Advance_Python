{
 "cells": [
  {
   "cell_type": "markdown",
   "id": "a2818470-b4c5-4c6b-a4ef-2b6d03f4fb80",
   "metadata": {},
   "source": [
    "## MultiProcessing "
   ]
  },
  {
   "cell_type": "code",
   "execution_count": 2,
   "id": "50b16e17-b0b3-417c-8385-8953ccbc38fb",
   "metadata": {},
   "outputs": [],
   "source": [
    "import multiprocessing\n",
    "import time"
   ]
  },
  {
   "cell_type": "code",
   "execution_count": 4,
   "id": "f089afb4-ad56-487b-a4df-48b327b4fa62",
   "metadata": {},
   "outputs": [],
   "source": [
    "def  square_number():\n",
    "    for i in range(5):\n",
    "        time.sleep(1)\n",
    "        print(f\"Square: {i*i}\")\n",
    "def cube_number():\n",
    "    for i in range():\n",
    "        time.sleep()\n",
    "        print(f\"Cube: {i*i*i}\")\n",
    "        "
   ]
  },
  {
   "cell_type": "code",
   "execution_count": 12,
   "id": "cfd3014e-7155-42ec-8e42-aed79535eca7",
   "metadata": {},
   "outputs": [
    {
     "name": "stdout",
     "output_type": "stream",
     "text": [
      "0.05787777900695801\n"
     ]
    },
    {
     "name": "stderr",
     "output_type": "stream",
     "text": [
      "Traceback (most recent call last):\n",
      "  File \"<string>\", line 1, in <module>\n",
      "  File \"/Users/Shared/Python/anaconda3/lib/python3.10/multiprocessing/spawn.py\", line 116, in spawn_main\n",
      "    exitcode = _main(fd, parent_sentinel)\n",
      "  File \"/Users/Shared/Python/anaconda3/lib/python3.10/multiprocessing/spawn.py\", line 126, in _main\n",
      "    self = reduction.pickle.load(from_parent)\n",
      "AttributeError: Can't get attribute 'square_number' on <module '__main__' (built-in)>\n",
      "Traceback (most recent call last):\n",
      "  File \"<string>\", line 1, in <module>\n",
      "  File \"/Users/Shared/Python/anaconda3/lib/python3.10/multiprocessing/spawn.py\", line 116, in spawn_main\n",
      "    exitcode = _main(fd, parent_sentinel)\n",
      "  File \"/Users/Shared/Python/anaconda3/lib/python3.10/multiprocessing/spawn.py\", line 126, in _main\n",
      "    self = reduction.pickle.load(from_parent)\n",
      "AttributeError: Can't get attribute 'cube_number' on <module '__main__' (built-in)>\n"
     ]
    }
   ],
   "source": [
    "if __name__==\"__main__\":\n",
    "    t= time.time()\n",
    "    p1= multiprocessing.Process(target= square_number)\n",
    "    p2= multiprocessing.Process(target= cube_number)\n",
    "\n",
    "    p1.start()\n",
    "    p2.start()\n",
    "\n",
    "    p1.join()\n",
    "    p2.join()\n",
    "\n",
    "    finish_time= (time.time())-t\n",
    "    print(finish_time)"
   ]
  },
  {
   "cell_type": "code",
   "execution_count": 21,
   "id": "c5844ce2-44c9-4884-b96c-6ada5ccb5089",
   "metadata": {},
   "outputs": [
    {
     "name": "stdout",
     "output_type": "stream",
     "text": [
      "Time taken: 0.06249403953552246 seconds\n"
     ]
    },
    {
     "name": "stderr",
     "output_type": "stream",
     "text": [
      "Traceback (most recent call last):\n",
      "  File \"<string>\", line 1, in <module>\n",
      "  File \"/Users/Shared/Python/anaconda3/lib/python3.10/multiprocessing/spawn.py\", line 116, in spawn_main\n",
      "    exitcode = _main(fd, parent_sentinel)\n",
      "  File \"/Users/Shared/Python/anaconda3/lib/python3.10/multiprocessing/spawn.py\", line 126, in _main\n",
      "    self = reduction.pickle.load(from_parent)\n",
      "AttributeError: Can't get attribute 'square_number' on <module '__main__' (built-in)>\n",
      "Traceback (most recent call last):\n",
      "  File \"<string>\", line 1, in <module>\n",
      "  File \"/Users/Shared/Python/anaconda3/lib/python3.10/multiprocessing/spawn.py\", line 116, in spawn_main\n",
      "    exitcode = _main(fd, parent_sentinel)\n",
      "  File \"/Users/Shared/Python/anaconda3/lib/python3.10/multiprocessing/spawn.py\", line 126, in _main\n",
      "    self = reduction.pickle.load(from_parent)\n",
      "AttributeError: Can't get attribute 'cube_number' on <module '__main__' (built-in)>\n"
     ]
    }
   ],
   "source": [
    "if __name__ == \"__main__\":\n",
    "    # Start the timer\n",
    "    t = time.time()\n",
    "\n",
    "    # Create the processes\n",
    "    p1 = multiprocessing.Process(target=square_number)\n",
    "    p2 = multiprocessing.Process(target=cube_number)\n",
    "\n",
    "    # Start the processes\n",
    "    p1.start()\n",
    "    p2.start()\n",
    "\n",
    "    # Wait for the processes to complete\n",
    "    p1.join()\n",
    "    p2.join()\n",
    "\n",
    "    # Calculate the elapsed time\n",
    "    finish_time = time.time() - t\n",
    "    print(f\"Time taken: {finish_time} seconds\")"
   ]
  },
  {
   "cell_type": "code",
   "execution_count": null,
   "id": "1473b863-319d-4ac8-80ab-600da9b53c87",
   "metadata": {},
   "outputs": [],
   "source": []
  }
 ],
 "metadata": {
  "kernelspec": {
   "display_name": "Python 3 (ipykernel)",
   "language": "python",
   "name": "python3"
  },
  "language_info": {
   "codemirror_mode": {
    "name": "ipython",
    "version": 3
   },
   "file_extension": ".py",
   "mimetype": "text/x-python",
   "name": "python",
   "nbconvert_exporter": "python",
   "pygments_lexer": "ipython3",
   "version": "3.10.13"
  }
 },
 "nbformat": 4,
 "nbformat_minor": 5
}
