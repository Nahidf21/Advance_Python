{
 "cells": [
  {
   "cell_type": "code",
   "execution_count": 16,
   "metadata": {},
   "outputs": [],
   "source": [
    "# Dictionary \n",
    "mydone= {\n",
    "    \"Name\":\"Nahid\",\n",
    "    \"Age\":2, \n",
    "    \"Gender\": \"Male\"\n",
    "    }"
   ]
  },
  {
   "cell_type": "code",
   "execution_count": 22,
   "metadata": {},
   "outputs": [],
   "source": [
    "# Dictionary \n",
    "mydone= {\n",
    "    \"Name\":\"Nahid\",\n",
    "    \"Age\":2, \n",
    "    \"Gender\": \"Male\"\n",
    "    }\n",
    "\n",
    "new_done= {}\n",
    "def dicone():\n",
    "    for k in mydone:\n",
    "        print(f\"{k} : {mydone[k]}\")\n",
    "        if k ==\"Age\":\n",
    "            y=mydone[k]+2\n",
    "            new_done[k]=y\n",
    "    else:\n",
    "        new_done[k]=mydone[k]\n",
    "    #print(\"The data is :\", d)\n",
    "\n",
    "\n"
   ]
  },
  {
   "cell_type": "code",
   "execution_count": 23,
   "metadata": {},
   "outputs": [
    {
     "name": "stdout",
     "output_type": "stream",
     "text": [
      "Name : Nahid\n",
      "Age : 2\n",
      "Gender : Male\n"
     ]
    },
    {
     "data": {
      "text/plain": [
       "{'Age': 4, 'Gender': 'Male'}"
      ]
     },
     "execution_count": 23,
     "metadata": {},
     "output_type": "execute_result"
    }
   ],
   "source": [
    "dicone()\n",
    "new_done"
   ]
  },
  {
   "cell_type": "code",
   "execution_count": 25,
   "metadata": {},
   "outputs": [
    {
     "name": "stdout",
     "output_type": "stream",
     "text": [
      "dict_keys(['name', 'age'])\n",
      "dict_values(['Nahid', 32])\n"
     ]
    }
   ],
   "source": [
    "dicone= {\"name\":\"Nahid\", \"age\": 32}\n",
    "print(dicone.keys())\n",
    "print(dicone.values())"
   ]
  },
  {
   "cell_type": "code",
   "execution_count": 27,
   "metadata": {},
   "outputs": [
    {
     "name": "stdout",
     "output_type": "stream",
     "text": [
      "Nahid\n",
      "Not Avilable\n"
     ]
    }
   ],
   "source": [
    "print(dicone.get(\"name\"))\n",
    "print(dicone.get(\"nasd\",\"Not Avilable\"))"
   ]
  },
  {
   "cell_type": "code",
   "execution_count": 28,
   "metadata": {},
   "outputs": [],
   "source": [
    "del dicone[\"name\"] #delete"
   ]
  },
  {
   "cell_type": "code",
   "execution_count": 31,
   "metadata": {},
   "outputs": [],
   "source": [
    "dicone[\"Name\"]=\"Nahid\" #Update"
   ]
  },
  {
   "cell_type": "code",
   "execution_count": 32,
   "metadata": {},
   "outputs": [
    {
     "data": {
      "text/plain": [
       "{'age': 32, 'Name': 'Nahid'}"
      ]
     },
     "execution_count": 32,
     "metadata": {},
     "output_type": "execute_result"
    }
   ],
   "source": [
    "dicone"
   ]
  },
  {
   "cell_type": "code",
   "execution_count": 33,
   "metadata": {},
   "outputs": [],
   "source": [
    "## Dictionary Methods \n",
    "keys = dicone.keys()\n",
    "values=dicone.values()\n",
    "items=dicone.items()"
   ]
  },
  {
   "cell_type": "code",
   "execution_count": 34,
   "metadata": {},
   "outputs": [
    {
     "name": "stdout",
     "output_type": "stream",
     "text": [
      "dict_items([('age', 32), ('Name', 'Nahid')])\n"
     ]
    }
   ],
   "source": [
    "print(items)"
   ]
  },
  {
   "cell_type": "code",
   "execution_count": 40,
   "metadata": {},
   "outputs": [
    {
     "name": "stdout",
     "output_type": "stream",
     "text": [
      "{'Name': 'Nahid', 'Age': 32}\n",
      "{'Name': 'Nahid', 'Age': 32}\n"
     ]
    }
   ],
   "source": [
    "## shallo coppy \n",
    "student={\"Name\": \"Nahid\", \"Age\":32}\n",
    "student_copy = student\n",
    "print(student)\n",
    "print(student_copy)"
   ]
  },
  {
   "cell_type": "code",
   "execution_count": 41,
   "metadata": {},
   "outputs": [
    {
     "name": "stdout",
     "output_type": "stream",
     "text": [
      "{'Name': 'Ferdous', 'Age': 32}\n",
      "{'Name': 'Ferdous', 'Age': 32}\n"
     ]
    }
   ],
   "source": [
    "student[\"Name\"]=\"Ferdous\"\n",
    "print(student)\n",
    "print(student_copy)"
   ]
  },
  {
   "cell_type": "code",
   "execution_count": 48,
   "metadata": {},
   "outputs": [
    {
     "name": "stdout",
     "output_type": "stream",
     "text": [
      "{'Name': 'Nahid', 'Age': 32}\n",
      "{'Name': 'Nahid', 'Age': 32}\n"
     ]
    }
   ],
   "source": [
    "student_copy1 = student.copy()\n",
    "print(student)\n",
    "print(student_copy1)"
   ]
  },
  {
   "cell_type": "code",
   "execution_count": 49,
   "metadata": {},
   "outputs": [
    {
     "name": "stdout",
     "output_type": "stream",
     "text": [
      "{'Name': 'Nahid2', 'Age': 32}\n",
      "{'Name': 'Nahid', 'Age': 32}\n"
     ]
    }
   ],
   "source": [
    "student[\"Name\"]=\"Nahid2\"\n",
    "print(student)\n",
    "print(student_copy1)"
   ]
  },
  {
   "cell_type": "code",
   "execution_count": 50,
   "metadata": {},
   "outputs": [
    {
     "name": "stdout",
     "output_type": "stream",
     "text": [
      "Name\n",
      "Nahid2\n",
      "Age\n",
      "32\n"
     ]
    }
   ],
   "source": [
    "for key,value in student.items():\n",
    "    print(key)\n",
    "    print(value)"
   ]
  },
  {
   "cell_type": "code",
   "execution_count": 51,
   "metadata": {},
   "outputs": [],
   "source": [
    "# Nested Disctionaries\n",
    "students= {\n",
    "    \"student1\" : {\"Name\":\"Nahid\",\"Age\":32},\n",
    "    \"student2\" : {\"Name\":\"Nahid2\",\"Age\":34}\n",
    "}"
   ]
  },
  {
   "cell_type": "code",
   "execution_count": 52,
   "metadata": {},
   "outputs": [
    {
     "data": {
      "text/plain": [
       "{'student1': {'Name': 'Nahid', 'Age': 32},\n",
       " 'student2': {'Name': 'Nahid2', 'Age': 34}}"
      ]
     },
     "execution_count": 52,
     "metadata": {},
     "output_type": "execute_result"
    }
   ],
   "source": [
    "students"
   ]
  },
  {
   "cell_type": "code",
   "execution_count": 54,
   "metadata": {},
   "outputs": [
    {
     "name": "stdout",
     "output_type": "stream",
     "text": [
      "Nahid\n",
      "32\n"
     ]
    }
   ],
   "source": [
    "print(students[\"student1\"][\"Name\"])\n",
    "print(students[\"student1\"][\"Age\"])"
   ]
  },
  {
   "cell_type": "code",
   "execution_count": 67,
   "metadata": {},
   "outputs": [
    {
     "name": "stdout",
     "output_type": "stream",
     "text": [
      "The student1 and the {'Name': 'Nahid', 'Age': 32}\n",
      "Name:Nahid\n",
      "Age:32\n",
      "The student2 and the {'Name': 'Nahid2', 'Age': 34}\n",
      "Name:Nahid2\n",
      "Age:34\n"
     ]
    }
   ],
   "source": [
    "students= {\n",
    "    \"student1\" : {\"Name\":\"Nahid\",\"Age\":32},\n",
    "    \"student2\" : {\"Name\":\"Nahid2\",\"Age\":34}\n",
    "}\n",
    "\n",
    "for key,value in students.items():\n",
    "    print(f\"The {key} and the {value}\")\n",
    "\n",
    "    for k,d in value.items():\n",
    "        print(f\"{k}:{d}\")\n",
    "\n",
    "   \n"
   ]
  },
  {
   "cell_type": "code",
   "execution_count": 57,
   "metadata": {},
   "outputs": [
    {
     "data": {
      "text/plain": [
       "tuple"
      ]
     },
     "execution_count": 57,
     "metadata": {},
     "output_type": "execute_result"
    }
   ],
   "source": [
    "T= (1,2,34,[12,2,3,2], {\"Name\":\"Nahid\"})\n",
    "type(T)"
   ]
  },
  {
   "cell_type": "code",
   "execution_count": 69,
   "metadata": {},
   "outputs": [
    {
     "data": {
      "text/plain": [
       "{0: 0, 1: 1, 2: 4, 3: 9, 4: 16}"
      ]
     },
     "execution_count": 69,
     "metadata": {},
     "output_type": "execute_result"
    }
   ],
   "source": [
    "# Dictionary Comphrehension \n",
    "squares = {x:x**2 for x in range(5)}\n",
    "squares"
   ]
  },
  {
   "cell_type": "code",
   "execution_count": 76,
   "metadata": {},
   "outputs": [],
   "source": [
    "import math as m\n",
    "# Conditional Dicrionary Comphrehension\n",
    "Equation = [m.log(x) for x in range(10) if x>=3]"
   ]
  },
  {
   "cell_type": "code",
   "execution_count": 77,
   "metadata": {},
   "outputs": [
    {
     "data": {
      "text/plain": [
       "[1.0986122886681098,\n",
       " 1.3862943611198906,\n",
       " 1.6094379124341003,\n",
       " 1.791759469228055,\n",
       " 1.9459101490553132,\n",
       " 2.0794415416798357,\n",
       " 2.1972245773362196]"
      ]
     },
     "execution_count": 77,
     "metadata": {},
     "output_type": "execute_result"
    }
   ],
   "source": [
    "Equation"
   ]
  },
  {
   "cell_type": "code",
   "execution_count": 78,
   "metadata": {},
   "outputs": [],
   "source": [
    "math_dic = {x: m.log(x) for x in [1,2,3,4,5,6,7] if m.log(x)<=1.2}"
   ]
  },
  {
   "cell_type": "code",
   "execution_count": 79,
   "metadata": {},
   "outputs": [
    {
     "data": {
      "text/plain": [
       "{1: 0.0, 2: 0.6931471805599453, 3: 1.0986122886681098}"
      ]
     },
     "execution_count": 79,
     "metadata": {},
     "output_type": "execute_result"
    }
   ],
   "source": [
    "math_dic"
   ]
  },
  {
   "cell_type": "code",
   "execution_count": 84,
   "metadata": {},
   "outputs": [
    {
     "data": {
      "text/plain": [
       "4"
      ]
     },
     "execution_count": 84,
     "metadata": {},
     "output_type": "execute_result"
    }
   ],
   "source": [
    "numbers= [1,1,1,2,2,2,1,2,3,4,3,4,2]\n",
    "numbers.count(1)"
   ]
  },
  {
   "cell_type": "code",
   "execution_count": 88,
   "metadata": {},
   "outputs": [
    {
     "name": "stdout",
     "output_type": "stream",
     "text": [
      "{1: 4, 2: 5, 3: 2, 4: 2}\n"
     ]
    }
   ],
   "source": [
    "numbers = [1, 1, 1, 2, 2, 2, 1, 2, 3, 4, 3, 4, 2]\n",
    "\n",
    "# Creating the dictionary with counts\n",
    "dicfour = {x: numbers.count(x) for x in set(numbers)}\n",
    "\n",
    "print(dicfour)\n"
   ]
  },
  {
   "cell_type": "code",
   "execution_count": 89,
   "metadata": {},
   "outputs": [
    {
     "data": {
      "text/plain": [
       "{1, 2, 3, 4}"
      ]
     },
     "execution_count": 89,
     "metadata": {},
     "output_type": "execute_result"
    }
   ],
   "source": [
    "set(numbers)"
   ]
  },
  {
   "cell_type": "code",
   "execution_count": 93,
   "metadata": {},
   "outputs": [
    {
     "data": {
      "text/plain": [
       "{'a': 3, 'b': 3, 'e': 3}"
      ]
     },
     "execution_count": 93,
     "metadata": {},
     "output_type": "execute_result"
    }
   ],
   "source": [
    "dic1 = {\"a\":1, \"b\":3}\n",
    "dic2 = {\"e\":3, \"a\":3}\n",
    "marge = {**dic1,**dic2}\n",
    "marge"
   ]
  },
  {
   "cell_type": "code",
   "execution_count": 96,
   "metadata": {},
   "outputs": [
    {
     "name": "stdout",
     "output_type": "stream",
     "text": [
      "{1, 2, 3, 4, 'Nahid'}\n"
     ]
    }
   ],
   "source": [
    "# How to find the unic values form a list.\n",
    "x= [1,1,1,1,2,4,2,3, \"Nahid\", \"Nahid\"]\n",
    "print(set(x))\n"
   ]
  },
  {
   "cell_type": "code",
   "execution_count": 100,
   "metadata": {},
   "outputs": [
    {
     "name": "stdout",
     "output_type": "stream",
     "text": [
      "In this list, 1 are 4 times in the list\n",
      "In this list, 2 are 2 times in the list\n",
      "In this list, 3 are 1 times in the list\n",
      "In this list, 4 are 1 times in the list\n",
      "In this list, Nahid are 2 times in the list\n"
     ]
    }
   ],
   "source": [
    "#How to cound repited number of elements in a list\n",
    "for i in set(x):\n",
    "    print(f\"In this list, {i} are {x.count(i)} times in the list\")"
   ]
  },
  {
   "cell_type": "code",
   "execution_count": null,
   "metadata": {},
   "outputs": [],
   "source": []
  }
 ],
 "metadata": {
  "kernelspec": {
   "display_name": "Python 3",
   "language": "python",
   "name": "python3"
  },
  "language_info": {
   "codemirror_mode": {
    "name": "ipython",
    "version": 3
   },
   "file_extension": ".py",
   "mimetype": "text/x-python",
   "name": "python",
   "nbconvert_exporter": "python",
   "pygments_lexer": "ipython3",
   "version": "3.12.4"
  }
 },
 "nbformat": 4,
 "nbformat_minor": 2
}
