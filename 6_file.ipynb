{
 "cells": [
  {
   "cell_type": "code",
   "execution_count": 3,
   "metadata": {},
   "outputs": [
    {
     "name": "stdout",
     "output_type": "stream",
     "text": [
      "Hello \n",
      "this is my IO operetions \n",
      "\n"
     ]
    }
   ],
   "source": [
    "with open(r\"C:\\Users\\nahid\\Desktop\\Python_World\\file.txt\",\"r\") as file:\n",
    "    contant = file.read()\n",
    "    print(contant)"
   ]
  },
  {
   "cell_type": "code",
   "execution_count": 18,
   "metadata": {},
   "outputs": [
    {
     "name": "stdout",
     "output_type": "stream",
     "text": [
      "Hello I am nahid\n",
      "My age is 32\n"
     ]
    }
   ],
   "source": [
    "# read a file line by line\n",
    "with open(r\"C:\\Users\\nahid\\Desktop\\Python_World\\file.txt\",\"r\") as data:\n",
    "    for i in data:\n",
    "        print(i.strip())  # .strip remove the new line charecter "
   ]
  },
  {
   "cell_type": "code",
   "execution_count": 16,
   "metadata": {},
   "outputs": [],
   "source": [
    "## writing a file \n",
    "with open(r\"C:\\Users\\nahid\\Desktop\\Python_World\\file.txt\", \"w\") as data1:\n",
    "    data1.write(\"Hello I am nahid \\n\")\n",
    "    data1.write(\"My age is 32\")"
   ]
  },
  {
   "cell_type": "code",
   "execution_count": 17,
   "metadata": {},
   "outputs": [
    {
     "name": "stdout",
     "output_type": "stream",
     "text": [
      "Hello I am nahid \n",
      "My age is 32\n"
     ]
    }
   ],
   "source": [
    "with open(r\"C:\\Users\\nahid\\Desktop\\Python_World\\file.txt\",\"r\") as data2:\n",
    "    print(data2.read())"
   ]
  },
  {
   "cell_type": "code",
   "execution_count": 33,
   "metadata": {},
   "outputs": [],
   "source": [
    "# Wriye a file without overwriting \n",
    "with open(r\"C:\\Users\\nahid\\Desktop\\Python_World\\file.txt\", \"a\") as data3:\n",
    "    data3.write(\"Ok now it will not over write \\n\")\n"
   ]
  },
  {
   "cell_type": "code",
   "execution_count": 35,
   "metadata": {},
   "outputs": [
    {
     "name": "stdout",
     "output_type": "stream",
     "text": [
      "Hello I am nahid \n",
      "My age is 32Ok now it will not over writeOk now it will not over writeOk now it will not over writeOk now it will not over write \n",
      " Ok now it will not over write \n",
      " \n",
      " Ok now it will not over write \n",
      " \n",
      " Ok now it will not over write \n",
      "Ok now it will not over write \n",
      "Ok now it will not over write \n",
      "Ok now it will not over write \n",
      "Ok now it will not over write \n",
      "\n"
     ]
    }
   ],
   "source": [
    "with open(r\"C:\\Users\\nahid\\Desktop\\Python_World\\file.txt\", \"r\") as data4:\n",
    "    print(data4.read())"
   ]
  },
  {
   "cell_type": "code",
   "execution_count": 56,
   "metadata": {},
   "outputs": [],
   "source": [
    "line=[\"My name is Nahid \\n\", \"My age is 32 \\n\" , \"My hobby is programming \\n\"]\n",
    "with open (r\"C:\\Users\\nahid\\Desktop\\Python_World\\file1.txt\", \"a\") as data6:\n",
    "    data6.writelines(line)"
   ]
  },
  {
   "cell_type": "code",
   "execution_count": 57,
   "metadata": {},
   "outputs": [
    {
     "name": "stdout",
     "output_type": "stream",
     "text": [
      "My name is Nahid \n",
      "My age is 32 \n",
      "My hobby is programming \n",
      "My name is Nahid \n",
      "My age is 32 \n",
      "My hobby is programming \n",
      "My name is Nahid \n",
      "My age is 32 \n",
      "My hobby is programming \n",
      "\n"
     ]
    }
   ],
   "source": [
    "with open(r\"C:\\Users\\nahid\\Desktop\\Python_World\\file1.txt\",\"r\") as data7:\n",
    "    print(data7.read())"
   ]
  },
  {
   "cell_type": "markdown",
   "metadata": {},
   "source": [
    "# Binary File"
   ]
  },
  {
   "cell_type": "code",
   "execution_count": 5,
   "metadata": {},
   "outputs": [],
   "source": [
    "data = b\"\\x00\\x01\\x02\\x03\\x04\"\n",
    "with open(r\"C:\\Users\\nahid\\Desktop\\Python_World\\file1.txt\",\"wb\") as bfile:\n",
    "    bfile.write(data)"
   ]
  },
  {
   "cell_type": "code",
   "execution_count": 6,
   "metadata": {},
   "outputs": [
    {
     "name": "stdout",
     "output_type": "stream",
     "text": [
      "b'\\x00\\x01\\x02\\x03\\x04'\n"
     ]
    }
   ],
   "source": [
    "with open(r\"C:\\Users\\nahid\\Desktop\\Python_World\\file1.txt\", \"rb\") as bfile:\n",
    "   print(bfile.read()) "
   ]
  },
  {
   "cell_type": "markdown",
   "metadata": {},
   "source": [
    "# File write and read in a single code "
   ]
  },
  {
   "cell_type": "code",
   "execution_count": 19,
   "metadata": {},
   "outputs": [
    {
     "name": "stdout",
     "output_type": "stream",
     "text": [
      "This file contains secrate informetion \n",
      "Keep this secrate \n",
      "\n"
     ]
    }
   ],
   "source": [
    "with open (r\"C:\\Users\\nahid\\Desktop\\Python_World\\file3.txt\",\"w+\") as data:\n",
    "    data.write(\"This file contains secrate informetion \\n\")\n",
    "    data.write(\"Keep this secrate \\n\")\n",
    "    data.seek(0)\n",
    "\n",
    "    print(data.read())\n"
   ]
  },
  {
   "cell_type": "markdown",
   "metadata": {},
   "source": [
    "# Create a new directory "
   ]
  },
  {
   "cell_type": "code",
   "execution_count": 23,
   "metadata": {},
   "outputs": [
    {
     "name": "stdout",
     "output_type": "stream",
     "text": [
      "The we directory has been creat and the name is C:\\Users\\nahid\\Desktop\\Python_World\\nahid1\n"
     ]
    }
   ],
   "source": [
    "import os\n",
    "new_directory = r\"C:\\Users\\nahid\\Desktop\\Python_World\\nahid1\"\n",
    "os.makedirs(new_directory)\n",
    "print(f\"The we directory has been creat and the name is {new_directory}\")\n"
   ]
  },
  {
   "cell_type": "code",
   "execution_count": 24,
   "metadata": {},
   "outputs": [
    {
     "name": "stdout",
     "output_type": "stream",
     "text": [
      "['1_Iterator.py', '1_Numpy.ipynb', '2.1_pandas.ipynb', '2.2_pandas.ipynb', '2_break.ipynb', '2_Iterator.ipynb', '2_list_tuples.py', '2_Pandas.ipynb', '3_Dictionary.ipynb', '3_Function_copy_Clouser_Decorators.ipynb', '3_list_Small_Project.py', '4_CPU_bound_task_MultiProcessing.ipynb', '4_filter.py', '5_Exceptions.ipynb', '5_impliment_web_scripting_with_MultiThreading.ipynb', '6_file.ipynb', 'code_teast.ipynb']\n"
     ]
    }
   ],
   "source": [
    "## Listing all the files \n",
    "items = os.listdir(\".\")\n",
    "print(items)"
   ]
  },
  {
   "cell_type": "code",
   "execution_count": 27,
   "metadata": {},
   "outputs": [
    {
     "name": "stdout",
     "output_type": "stream",
     "text": [
      "Hello\n"
     ]
    }
   ],
   "source": [
    "### Joining path\n",
    "dir_name = r\"C:\\Users\\nahid\\Desktop\\Python_World\\nahid1\"\n",
    "file_name = \"file.txt\"\n",
    "full_path=os.path.join(dir_name,file_name)\n",
    "\n",
    "with open(full_path,\"w+\") as data:\n",
    "    data.write(\"Hello\")\n",
    "    data.seek(0)\n",
    "\n",
    "    print(data.read())"
   ]
  },
  {
   "cell_type": "code",
   "execution_count": 33,
   "metadata": {},
   "outputs": [
    {
     "name": "stdout",
     "output_type": "stream",
     "text": [
      "C:\\Users\\nahid\\Desktop\\Python_World\\nahid1 is a directory\n"
     ]
    }
   ],
   "source": [
    "import os\n",
    "path= r\"C:\\Users\\nahid\\Desktop\\Python_World\\nahid1\"\n",
    "if os.path.isfile(path):\n",
    "    print(f\"{path} is a file\")\n",
    "elif os.path.isdir(path):\n",
    "    print(f\"{path} is a directory\")\n",
    "else:\n",
    "    print(f\"Please cehck this path and find the error = {path}\")"
   ]
  },
  {
   "cell_type": "code",
   "execution_count": 36,
   "metadata": {},
   "outputs": [
    {
     "name": "stdout",
     "output_type": "stream",
     "text": [
      "['file.txt']\n"
     ]
    }
   ],
   "source": [
    "\n",
    "print(os.listdir(path))"
   ]
  },
  {
   "cell_type": "code",
   "execution_count": null,
   "metadata": {},
   "outputs": [],
   "source": []
  }
 ],
 "metadata": {
  "kernelspec": {
   "display_name": "Python 3",
   "language": "python",
   "name": "python3"
  },
  "language_info": {
   "codemirror_mode": {
    "name": "ipython",
    "version": 3
   },
   "file_extension": ".py",
   "mimetype": "text/x-python",
   "name": "python",
   "nbconvert_exporter": "python",
   "pygments_lexer": "ipython3",
   "version": "3.12.4"
  }
 },
 "nbformat": 4,
 "nbformat_minor": 2
}
