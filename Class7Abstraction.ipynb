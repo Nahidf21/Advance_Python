{
 "cells": [
  {
   "cell_type": "code",
   "execution_count": 75,
   "id": "f1a2dcc6-3248-4092-90f5-ef455aca5db8",
   "metadata": {},
   "outputs": [],
   "source": [
    "from abc import ABC, abstractmethod\n",
    "\n",
    "class School(ABC):\n",
    "    @abstractmethod\n",
    "    def __init__ (self, name, age):\n",
    "        self.name=name\n",
    "        self.age=age\n",
    "    \n",
    "    def info(self):\n",
    "        pass\n",
    "        "
   ]
  },
  {
   "cell_type": "code",
   "execution_count": 89,
   "id": "e5ffaff6-9a0d-4619-a37c-66bbb781888b",
   "metadata": {},
   "outputs": [],
   "source": [
    "class Student(School):\n",
    "    def __init__ (self, name, age, T_name):\n",
    "        School.__init__(self,name,age)\n",
    "        self.T_name=T_name\n",
    "    def info(self,pre):\n",
    "        print(f\"The name of the teacher {self.T_name} {pre}\")\n",
    "        "
   ]
  },
  {
   "cell_type": "code",
   "execution_count": 91,
   "id": "d3fe63d4-88b2-4ea9-85b2-298aee4bd026",
   "metadata": {},
   "outputs": [],
   "source": [
    "teacher = Student(\"Nahid\",23,\"You\")"
   ]
  },
  {
   "cell_type": "code",
   "execution_count": 95,
   "id": "6e892e90-9726-45b2-93de-e7d0d4b7e642",
   "metadata": {},
   "outputs": [
    {
     "name": "stdout",
     "output_type": "stream",
     "text": [
      "The name of the teacher You 12\n"
     ]
    }
   ],
   "source": [
    "teacher.info(12)"
   ]
  },
  {
   "cell_type": "code",
   "execution_count": null,
   "id": "21670ef0-8feb-4307-88d0-3adb39e99931",
   "metadata": {},
   "outputs": [],
   "source": []
  }
 ],
 "metadata": {
  "kernelspec": {
   "display_name": "Python 3 (ipykernel)",
   "language": "python",
   "name": "python3"
  },
  "language_info": {
   "codemirror_mode": {
    "name": "ipython",
    "version": 3
   },
   "file_extension": ".py",
   "mimetype": "text/x-python",
   "name": "python",
   "nbconvert_exporter": "python",
   "pygments_lexer": "ipython3",
   "version": "3.10.13"
  }
 },
 "nbformat": 4,
 "nbformat_minor": 5
}
