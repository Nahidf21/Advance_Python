{
 "cells": [
  {
   "cell_type": "markdown",
   "id": "7434b6c7-81a6-4156-9999-ac30df772019",
   "metadata": {},
   "source": [
    "## Encapsulation\n"
   ]
  },
  {
   "cell_type": "code",
   "execution_count": 221,
   "id": "542cef62-97bd-4599-969f-26d0620d2694",
   "metadata": {},
   "outputs": [],
   "source": [
    "class Student:\n",
    "    def __init__(self, name, id, age, subject, number):\n",
    "        self.__name = name\n",
    "        self._id = id\n",
    "        self.__age = age\n",
    "        self._subject = subject\n",
    "        self._number = number\n",
    "    \n",
    "    def get_name(self):\n",
    "        return self.__name\n",
    "    \n",
    "    def set_name(self, new_name):\n",
    "        self.__name = new_name\n",
    "    def get_age(self):\n",
    "        return self.__age\n"
   ]
  },
  {
   "cell_type": "code",
   "execution_count": 223,
   "id": "84ef8579-1299-4dd1-8f58-826a5acac528",
   "metadata": {},
   "outputs": [
    {
     "name": "stdout",
     "output_type": "stream",
     "text": [
      "Ferdous\n"
     ]
    }
   ],
   "source": [
    "student1= Student(\"Nahid\",1234,34,\"Data Science\",3462)\n",
    "student1.set_name(\"Ferdous\")\n",
    "print(student1.get_name())"
   ]
  },
  {
   "cell_type": "code",
   "execution_count": 225,
   "id": "1b31aa6e-becf-4cf2-b99e-49aad5536d5c",
   "metadata": {},
   "outputs": [],
   "source": [
    "## Class 02\n",
    "class Teacher:\n",
    "    def __init__(self, T_name, T_age, T_id):\n",
    "        self.T_name=T_name\n",
    "        self.T_age=T_age\n",
    "        self.T_id=T_id\n",
    "        \n",
    "    def T_info(self):\n",
    "        print(f\"The name of the teacher is {self.T_name}\")\n",
    "        print(f\"Age:{self.T_age}\")\n",
    "        print(f\"ID:{self.T_id}\")\n",
    "        "
   ]
  },
  {
   "cell_type": "code",
   "execution_count": 227,
   "id": "5d0071c8-c37f-40c6-bafd-8a03c789475b",
   "metadata": {},
   "outputs": [
    {
     "name": "stdout",
     "output_type": "stream",
     "text": [
      "The name of the teacher is Nahid\n",
      "Age:35\n",
      "ID:12345\n"
     ]
    }
   ],
   "source": [
    "Teacher1= Teacher(\"Nahid\",35,12345)\n",
    "Teacher1.T_info()"
   ]
  },
  {
   "cell_type": "code",
   "execution_count": 229,
   "id": "78a0bf3e-6df3-4c5d-bb2b-d8b10bdf8b27",
   "metadata": {},
   "outputs": [],
   "source": [
    "## Encapsulation \n",
    "class School(Student):\n",
    "    def __init__ (self, name, id, age, subject, number):\n",
    "        Student.__init__(self, name, id, age, subject, number)\n",
    "        \n",
    "        def set_age(self,age):\n",
    "            self.__age=age\n",
    "            "
   ]
  },
  {
   "cell_type": "code",
   "execution_count": 231,
   "id": "8b9ae519-c43e-48b9-ba3b-b1601626ba92",
   "metadata": {},
   "outputs": [],
   "source": [
    "School1= School(\"Nahid\", 12345, 21, \"Hello\", 34)"
   ]
  },
  {
   "cell_type": "code",
   "execution_count": 233,
   "id": "ddf9cca7-a94b-4c0f-a69d-66fd0354e113",
   "metadata": {},
   "outputs": [
    {
     "data": {
      "text/plain": [
       "'Nahid'"
      ]
     },
     "execution_count": 233,
     "metadata": {},
     "output_type": "execute_result"
    }
   ],
   "source": [
    "School1.get_name()"
   ]
  },
  {
   "cell_type": "code",
   "execution_count": 235,
   "id": "8e1760fd-37bc-4a80-915f-57dc7b8b8a7e",
   "metadata": {},
   "outputs": [],
   "source": [
    "School2= Student(\"A\", 12, 123, \"Hello\", 23)"
   ]
  },
  {
   "cell_type": "code",
   "execution_count": 237,
   "id": "a3ced6b6-a7ce-46ca-9d8c-e8fa08645490",
   "metadata": {},
   "outputs": [
    {
     "data": {
      "text/plain": [
       "'Ferdous'"
      ]
     },
     "execution_count": 237,
     "metadata": {},
     "output_type": "execute_result"
    }
   ],
   "source": [
    "\n",
    "School2.set_name(\"Ferdous\")\n",
    "School2.get_name()"
   ]
  },
  {
   "cell_type": "code",
   "execution_count": 248,
   "id": "426e3c77-a33a-4f2d-ac00-acc3302b7b07",
   "metadata": {},
   "outputs": [
    {
     "data": {
      "text/plain": [
       "21"
      ]
     },
     "execution_count": 248,
     "metadata": {},
     "output_type": "execute_result"
    }
   ],
   "source": [
    "School1.get_age()"
   ]
  },
  {
   "cell_type": "markdown",
   "id": "e031585f-1e16-413a-ae12-8598f7d1a756",
   "metadata": {},
   "source": [
    "# In this code, the age variable is a private attribute. However, we can still access and modify its value through getter and setter methods, which is a neat feature of encapsulation."
   ]
  },
  {
   "cell_type": "code",
   "execution_count": null,
   "id": "e2e66da8-5d42-4ee6-a7d2-c42bd78fb19d",
   "metadata": {},
   "outputs": [],
   "source": []
  },
  {
   "cell_type": "code",
   "execution_count": null,
   "id": "f3bbc0f2-1211-493d-bd76-9f69831dceb4",
   "metadata": {},
   "outputs": [],
   "source": []
  },
  {
   "cell_type": "code",
   "execution_count": null,
   "id": "a704f25d-4114-441e-99a0-e36c4df6e931",
   "metadata": {},
   "outputs": [],
   "source": []
  }
 ],
 "metadata": {
  "kernelspec": {
   "display_name": "Python 3 (ipykernel)",
   "language": "python",
   "name": "python3"
  },
  "language_info": {
   "codemirror_mode": {
    "name": "ipython",
    "version": 3
   },
   "file_extension": ".py",
   "mimetype": "text/x-python",
   "name": "python",
   "nbconvert_exporter": "python",
   "pygments_lexer": "ipython3",
   "version": "3.10.13"
  }
 },
 "nbformat": 4,
 "nbformat_minor": 5
}
