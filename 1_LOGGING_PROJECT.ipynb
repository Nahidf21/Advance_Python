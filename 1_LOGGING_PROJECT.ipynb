{
 "cells": [
  {
   "cell_type": "code",
   "execution_count": 1,
   "metadata": {},
   "outputs": [],
   "source": [
    "import logging"
   ]
  },
  {
   "cell_type": "code",
   "execution_count": 3,
   "metadata": {},
   "outputs": [
    {
     "name": "stderr",
     "output_type": "stream",
     "text": [
      "2024-08-31 01:52:49-ArithmeticAPP-DEBUG-Adding 1 + 2 = 3\n",
      "2024-08-31 01:52:49-ArithmeticAPP-DEBUG-Subtract 2 - 1 = 1\n",
      "2024-08-31 01:52:49-ArithmeticAPP-DEBUG-divide 1 / 1 = 1.0\n",
      "2024-08-31 01:52:49-ArithmeticAPP-ERROR-division by zero\n"
     ]
    },
    {
     "name": "stdout",
     "output_type": "stream",
     "text": [
      "Zeo division error\n"
     ]
    }
   ],
   "source": [
    "## logging settings\n",
    "\n",
    "logging.basicConfig(\n",
    "    level= logging.DEBUG,\n",
    "    format=\"%(asctime)s-%(name)s-%(levelname)s-%(message)s\",\n",
    "    datefmt=\"%Y-%m-%d %H:%M:%S\",\n",
    "    handlers=[\n",
    "        logging.FileHandler(\"app_finel1.log\"), # in this file we wii get our log informetions \n",
    "        logging.StreamHandler()\n",
    "    ]\n",
    ")\n",
    "\n",
    "## create a  module for a specific operetion \n",
    "\n",
    "logger= logging.getLogger(\"ArithmeticAPP\")\n",
    "\n",
    "def add(a,b):\n",
    "    result = a+b\n",
    "    logger.debug(f\"Adding {a} + {b} = {result}\")\n",
    "    return result\n",
    "\n",
    "def subtract(a,b):\n",
    "    result = a-b\n",
    "    logger.debug(f\"Subtract {a} - {b} = {result}\")\n",
    "    return result\n",
    "\n",
    "def divide(a,b):\n",
    "    try:\n",
    "        result = a/b\n",
    "        logger.debug(f\"divide {a} / {b} = {result}\")\n",
    "        return result\n",
    "    except Exception as ex:\n",
    "        logger.error(f\"{ex}\")\n",
    "        print(\"Zeo division error\")\n",
    "\n",
    "\n",
    "add(1,2)\n",
    "subtract(2,1)\n",
    "divide(1,1)\n",
    "divide(1,0)"
   ]
  },
  {
   "cell_type": "code",
   "execution_count": null,
   "metadata": {},
   "outputs": [],
   "source": []
  }
 ],
 "metadata": {
  "kernelspec": {
   "display_name": "Python 3",
   "language": "python",
   "name": "python3"
  },
  "language_info": {
   "codemirror_mode": {
    "name": "ipython",
    "version": 3
   },
   "file_extension": ".py",
   "mimetype": "text/x-python",
   "name": "python",
   "nbconvert_exporter": "python",
   "pygments_lexer": "ipython3",
   "version": "3.12.4"
  }
 },
 "nbformat": 4,
 "nbformat_minor": 2
}
