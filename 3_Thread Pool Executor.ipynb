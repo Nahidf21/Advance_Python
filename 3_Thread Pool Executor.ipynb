{
 "cells": [
  {
   "cell_type": "markdown",
   "id": "b5662c81-a97a-4f14-a22d-09a9391687b5",
   "metadata": {},
   "source": [
    "## Thread pool executor"
   ]
  },
  {
   "cell_type": "code",
   "execution_count": 2,
   "id": "8353aab3-f8bb-4178-9072-f2a483e6008d",
   "metadata": {},
   "outputs": [],
   "source": [
    "from concurrent.futures import ThreadPoolExecutor\n",
    "import time"
   ]
  },
  {
   "cell_type": "code",
   "execution_count": 4,
   "id": "cde151e5-ddb0-4040-9464-3bd995e41ec7",
   "metadata": {},
   "outputs": [],
   "source": [
    "def print_number(number):\n",
    "    time.sleep(1)\n",
    "    return f\"Number : {number}\"\n",
    "number=[1,2,3,4,5,6,7,8,9,10,12,12,13,14,14]"
   ]
  },
  {
   "cell_type": "code",
   "execution_count": 10,
   "id": "a308d324-2c16-4228-bb43-ab71e5f0225f",
   "metadata": {},
   "outputs": [
    {
     "name": "stdout",
     "output_type": "stream",
     "text": [
      "Result: Number : 1\n",
      "Result: Number : 2\n",
      "Result: Number : 3\n",
      "Result: Number : 4\n",
      "Result: Number : 5\n",
      "Result: Number : 6\n",
      "Result: Number : 7\n",
      "Result: Number : 8\n",
      "Result: Number : 9\n",
      "Result: Number : 10\n",
      "Result: Number : 12\n",
      "Result: Number : 12\n",
      "Result: Number : 13\n",
      "Result: Number : 14\n",
      "Result: Number : 14\n"
     ]
    }
   ],
   "source": [
    "# Use ThreadPoolExecutor with 3 workers\n",
    "with ThreadPoolExecutor(max_workers=3) as executor:\n",
    "    # Map the print_number function to the list of numbers\n",
    "    results = executor.map(print_number, number)\n",
    "\n",
    "# Print the results\n",
    "for result in results:\n",
    "    print(f\"Result: {result}\")"
   ]
  },
  {
   "cell_type": "code",
   "execution_count": null,
   "id": "9c49251f-9ef5-445b-ae19-ae4190163564",
   "metadata": {},
   "outputs": [],
   "source": []
  }
 ],
 "metadata": {
  "kernelspec": {
   "display_name": "Python 3 (ipykernel)",
   "language": "python",
   "name": "python3"
  },
  "language_info": {
   "codemirror_mode": {
    "name": "ipython",
    "version": 3
   },
   "file_extension": ".py",
   "mimetype": "text/x-python",
   "name": "python",
   "nbconvert_exporter": "python",
   "pygments_lexer": "ipython3",
   "version": "3.10.13"
  }
 },
 "nbformat": 4,
 "nbformat_minor": 5
}
