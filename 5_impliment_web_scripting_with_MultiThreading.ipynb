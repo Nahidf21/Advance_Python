{
 "cells": [
  {
   "cell_type": "code",
   "execution_count": 3,
   "metadata": {},
   "outputs": [],
   "source": [
    "import threading\n",
    "import requests\n",
    "from bs4 import BeautifulSoup"
   ]
  },
  {
   "cell_type": "code",
   "execution_count": 5,
   "metadata": {},
   "outputs": [
    {
     "name": "stdout",
     "output_type": "stream",
     "text": [
      "Fetched 8574 cherecters from https://python.langchain.com/v0.2/docs/tutorials/\n",
      "Fetched 10499 cherecters from https://python.langchain.com/v0.2/docs/introduction/\n",
      "Fetched 18035 cherecters from https://python.langchain.com/v0.2/docs/how_to/\n",
      "All web pages fetched\n"
     ]
    }
   ],
   "source": [
    "urls = [\"https://python.langchain.com/v0.2/docs/introduction/\", \n",
    "       \"https://python.langchain.com/v0.2/docs/tutorials/\", \n",
    "       \"https://python.langchain.com/v0.2/docs/how_to/\"]\n",
    "\n",
    "def fetch_content(url):\n",
    "    response = requests.get(url)\n",
    "    soup=BeautifulSoup(response.content, \"html.parser\")\n",
    "    print(f\"Fetched {len(soup.text)} cherecters from {url}\")\n",
    "\n",
    "threands=[]\n",
    "\n",
    "for url in urls:\n",
    "    threand = threading.Thread(target=fetch_content,args=(url,))\n",
    "    threands.append(threand)\n",
    "    threand.start()\n",
    "\n",
    "for thread in threands:\n",
    "    threand.join()\n",
    "print(\"All web pages fetched\")\n"
   ]
  }
 ],
 "metadata": {
  "kernelspec": {
   "display_name": "Python 3",
   "language": "python",
   "name": "python3"
  },
  "language_info": {
   "codemirror_mode": {
    "name": "ipython",
    "version": 3
   },
   "file_extension": ".py",
   "mimetype": "text/x-python",
   "name": "python",
   "nbconvert_exporter": "python",
   "pygments_lexer": "ipython3",
   "version": "3.12.4"
  }
 },
 "nbformat": 4,
 "nbformat_minor": 2
}
