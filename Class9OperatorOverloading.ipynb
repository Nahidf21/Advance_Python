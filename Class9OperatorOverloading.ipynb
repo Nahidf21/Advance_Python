{
 "cells": [
  {
   "cell_type": "markdown",
   "id": "3e703c05-70f4-414f-8bf9-0fc400599520",
   "metadata": {},
   "source": [
    "## Operator Overloading"
   ]
  },
  {
   "cell_type": "code",
   "execution_count": 452,
   "id": "effc4a85-9294-482e-be86-6cadc8d20f68",
   "metadata": {},
   "outputs": [],
   "source": [
    "class Vector:\n",
    "    def __init__(self,x,y):\n",
    "        self.x=x\n",
    "        self.y=y\n",
    "\n",
    "    def __add__(self,other):\n",
    "        return self.x + other.x, self.y + other.y\n",
    "\n",
    "    def __sub__(self,other):\n",
    "        return self.x-other.x, self.y-other.y\n",
    "        \n",
    "    def __mul__(self,other):\n",
    "        return self.x*other.x, self.y*other.y\n",
    "        \n",
    "    def __truediv__(self,other):\n",
    "        return self.x/other.x, self.y/other.y\n",
    "        \n",
    "    def __eq__(self,other):\n",
    "        return self.x==other.x and self.y==other.y\n",
    "        \n",
    "    def __str__(self):\n",
    "       return f\"This is Vector Class\"\n",
    "    def __repr__(self):\n",
    "        return f\"This values are secret\"\n"
   ]
  },
  {
   "cell_type": "code",
   "execution_count": 454,
   "id": "4a278348-fc22-439e-8cb1-84168202809b",
   "metadata": {},
   "outputs": [],
   "source": [
    "## Let's Create objects \n",
    "v1= Vector(3,-1)\n",
    "v2= Vector(6,9)"
   ]
  },
  {
   "cell_type": "code",
   "execution_count": 456,
   "id": "fabf5aa1-f259-48bf-a2a5-a1c43e3acc75",
   "metadata": {},
   "outputs": [
    {
     "data": {
      "text/plain": [
       "(9, 8)"
      ]
     },
     "execution_count": 456,
     "metadata": {},
     "output_type": "execute_result"
    }
   ],
   "source": [
    "## Add\n",
    "v1+v2"
   ]
  },
  {
   "cell_type": "code",
   "execution_count": 458,
   "id": "dcb57362-a3dd-4519-bf9c-c1f416965431",
   "metadata": {},
   "outputs": [
    {
     "data": {
      "text/plain": [
       "(-3, -10)"
      ]
     },
     "execution_count": 458,
     "metadata": {},
     "output_type": "execute_result"
    }
   ],
   "source": [
    "## Division\n",
    "v1-v2"
   ]
  },
  {
   "cell_type": "code",
   "execution_count": 460,
   "id": "d044e320-c543-4f7f-985b-23a73d69d2c1",
   "metadata": {},
   "outputs": [
    {
     "data": {
      "text/plain": [
       "(18, -9)"
      ]
     },
     "execution_count": 460,
     "metadata": {},
     "output_type": "execute_result"
    }
   ],
   "source": [
    "## MUL\n",
    "v1*v2"
   ]
  },
  {
   "cell_type": "code",
   "execution_count": 462,
   "id": "26a45964-687e-4cfd-a528-e412351b8988",
   "metadata": {},
   "outputs": [
    {
     "data": {
      "text/plain": [
       "False"
      ]
     },
     "execution_count": 462,
     "metadata": {},
     "output_type": "execute_result"
    }
   ],
   "source": [
    "## EQL\n",
    "v1==v2"
   ]
  },
  {
   "cell_type": "code",
   "execution_count": 464,
   "id": "f758ed85-3f68-4243-ac35-9c99cb037233",
   "metadata": {},
   "outputs": [
    {
     "data": {
      "text/plain": [
       "This values are secret"
      ]
     },
     "execution_count": 464,
     "metadata": {},
     "output_type": "execute_result"
    }
   ],
   "source": [
    "v1"
   ]
  },
  {
   "cell_type": "code",
   "execution_count": 466,
   "id": "73bf0e2d-8480-4a56-a0cf-8aeb15fddb99",
   "metadata": {},
   "outputs": [
    {
     "data": {
      "text/plain": [
       "This values are secret"
      ]
     },
     "execution_count": 466,
     "metadata": {},
     "output_type": "execute_result"
    }
   ],
   "source": [
    "v2"
   ]
  },
  {
   "cell_type": "code",
   "execution_count": 468,
   "id": "c4bd276e-941f-4211-8464-620e30065b89",
   "metadata": {},
   "outputs": [
    {
     "name": "stdout",
     "output_type": "stream",
     "text": [
      "This is Vector Class\n"
     ]
    }
   ],
   "source": [
    "print(v1)"
   ]
  },
  {
   "cell_type": "code",
   "execution_count": 470,
   "id": "c99c91f2-78b3-4705-b2d5-aadd02086ad9",
   "metadata": {},
   "outputs": [
    {
     "name": "stdout",
     "output_type": "stream",
     "text": [
      "This is Vector Class\n"
     ]
    }
   ],
   "source": [
    "print(v2)"
   ]
  },
  {
   "cell_type": "code",
   "execution_count": 472,
   "id": "5354a071-809d-40fa-81c9-117ccbd8f1ca",
   "metadata": {},
   "outputs": [
    {
     "data": {
      "text/plain": [
       "(0.5, -0.1111111111111111)"
      ]
     },
     "execution_count": 472,
     "metadata": {},
     "output_type": "execute_result"
    }
   ],
   "source": [
    "v1/v2"
   ]
  },
  {
   "cell_type": "code",
   "execution_count": null,
   "id": "1562b710-7298-47f0-b913-646c5ae6ff83",
   "metadata": {},
   "outputs": [],
   "source": []
  }
 ],
 "metadata": {
  "kernelspec": {
   "display_name": "Python 3 (ipykernel)",
   "language": "python",
   "name": "python3"
  },
  "language_info": {
   "codemirror_mode": {
    "name": "ipython",
    "version": 3
   },
   "file_extension": ".py",
   "mimetype": "text/x-python",
   "name": "python",
   "nbconvert_exporter": "python",
   "pygments_lexer": "ipython3",
   "version": "3.10.13"
  }
 },
 "nbformat": 4,
 "nbformat_minor": 5
}
